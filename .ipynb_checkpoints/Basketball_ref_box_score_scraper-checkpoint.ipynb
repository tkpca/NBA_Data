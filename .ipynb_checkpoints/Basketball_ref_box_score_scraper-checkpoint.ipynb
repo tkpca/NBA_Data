{
 "cells": [
  {
   "cell_type": "code",
   "execution_count": 118,
   "metadata": {},
   "outputs": [
    {
     "name": "stdout",
     "output_type": "stream",
     "text": [
      "['20160414', '20160415', '20160416', '20160417', '20160418', '20160419', '20160420', '20160421', '20160422', '20160423', '20160424', '20160425', '20160426', '20160427', '20160428', '20160429', '20160430']\n"
     ]
    }
   ],
   "source": [
    "from bs4 import BeautifulSoup as bs\n",
    "\n",
    "import requests\n",
    "import re\n",
    "\n",
    "current_year='2016'\n",
    "last_day=[i for i in range(416, 431)]\n",
    "last_day=[current_year+'0'+str(i) for i in last_day]\n",
    "print(last_day)\n",
    "url_base = 'https://www.basketball-reference.com/leagues/NBA_' +current_year +'_games-'\n",
    "season_months='october november december january february march april'.split(' ')\n",
    "#https://www.basketball-reference.com/leagues/NBA_2017_games-october.html\n",
    "\n",
    "game_list_season=[]\n",
    "\n"
   ]
  },
  {
   "cell_type": "code",
   "execution_count": 119,
   "metadata": {},
   "outputs": [],
   "source": [
    "def pull_urls(url):\n",
    "    r  = requests.get(url)\n",
    "    data = r.text\n",
    "    soup = bs(data)\n",
    "    pattern=re.compile(\"boxscores/2\") #regex pattern for boxscores\n",
    "    game_url_month=[link.get('href')for link in soup.findAll('a', attrs={'href': pattern})] #get all the boxscores for the month\n",
    "    return game_url_month\n"
   ]
  },
  {
   "cell_type": "code",
   "execution_count": 120,
   "metadata": {},
   "outputs": [],
   "source": [
    "for i in season_months:\n",
    "    url=url_base+i+'.html'\n",
    "    game_list_season.append(pull_urls(url))\n",
    "    \n",
    "game_list_season = [item for sublist in game_list_season for item in sublist if item[11:19] not in last_day] #flatten the list to get a list of game_ids and the the game dates\n",
    "#game_list_season=[item for item in game_list_season if item[11:19] not in last_day]\n"
   ]
  },
  {
   "cell_type": "code",
   "execution_count": 127,
   "metadata": {},
   "outputs": [
    {
     "data": {
      "text/plain": [
       "['/boxscores/201604120LAC.html',\n",
       " '/boxscores/201604130BOS.html',\n",
       " '/boxscores/201604130BRK.html',\n",
       " '/boxscores/201604130CHI.html',\n",
       " '/boxscores/201604130CHO.html',\n",
       " '/boxscores/201604130CLE.html',\n",
       " '/boxscores/201604130DAL.html',\n",
       " '/boxscores/201604130HOU.html',\n",
       " '/boxscores/201604130MIL.html',\n",
       " '/boxscores/201604130MIN.html',\n",
       " '/boxscores/201604130WAS.html',\n",
       " '/boxscores/201604130GSW.html',\n",
       " '/boxscores/201604130LAL.html',\n",
       " '/boxscores/201604130PHO.html',\n",
       " '/boxscores/201604130POR.html']"
      ]
     },
     "execution_count": 127,
     "metadata": {},
     "output_type": "execute_result"
    }
   ],
   "source": [
    "game_list_season[-15:] #check the urls for the end of the season"
   ]
  },
  {
   "cell_type": "code",
   "execution_count": null,
   "metadata": {},
   "outputs": [],
   "source": []
  }
 ],
 "metadata": {
  "kernelspec": {
   "display_name": "Python 3",
   "language": "python",
   "name": "python3"
  },
  "language_info": {
   "codemirror_mode": {
    "name": "ipython",
    "version": 3
   },
   "file_extension": ".py",
   "mimetype": "text/x-python",
   "name": "python",
   "nbconvert_exporter": "python",
   "pygments_lexer": "ipython3",
   "version": "3.7.5"
  }
 },
 "nbformat": 4,
 "nbformat_minor": 4
}
