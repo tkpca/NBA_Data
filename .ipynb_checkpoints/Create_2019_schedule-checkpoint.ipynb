{
 "cells": [
  {
   "cell_type": "markdown",
   "metadata": {},
   "source": [
    "#Schedule scraper\n",
    "This is a short module that builds a dictionary of games and when they are played. It prevents the scraper from pulling games that haven't been played during the current season"
   ]
  },
  {
   "cell_type": "code",
   "execution_count": 8,
   "metadata": {},
   "outputs": [],
   "source": [
    "import requests\n",
    "import json\n",
    "import pandas as pd\n",
    "import os"
   ]
  },
  {
   "cell_type": "code",
   "execution_count": 9,
   "metadata": {},
   "outputs": [],
   "source": [
    "year_to_pull='2019'\n",
    "sched_url='https://data.nba.com/data/10s/v2015/json/mobile_teams/nba/'+ year_to_pull +'/league/00_full_schedule_week.json' #edit later and make it dynamic\n",
    "response = requests.get(sched_url)\n",
    "data=response.json() #convert the response in to a JSON dictionary\n",
    "schedule=data['lscd'] #get all the games by month"
   ]
  },
  {
   "cell_type": "code",
   "execution_count": 10,
   "metadata": {},
   "outputs": [],
   "source": [
    "#get the dictionary of games by month\n",
    "i = [i['mscd']['g'] for i in schedule]"
   ]
  },
  {
   "cell_type": "code",
   "execution_count": 11,
   "metadata": {},
   "outputs": [],
   "source": [
    "#take the list of months and parse into individual games and flatten the list\n",
    "z = [game for month in i for game in month]"
   ]
  },
  {
   "cell_type": "code",
   "execution_count": 60,
   "metadata": {},
   "outputs": [],
   "source": [
    "#create a dictionary that contains the key/value pairs for game and date. Startswith removes the preseason games.\n",
    "game_dict = {gid['gid']:gid['gdte'] for gid in z for a in gid if gid['gid'].startswith('002')}\n"
   ]
  },
  {
   "cell_type": "code",
   "execution_count": 64,
   "metadata": {},
   "outputs": [],
   "source": [
    "#save as a dataframe then to csv\n",
    "df=pd.DataFrame.from_dict(game_dict,orient='index')\n",
    "savedir=os.getcwd()+'\\\\datatables\\\\'\n",
    "df.reset_index().to_csv(f'{savedir}{year_to_pull}_schedule.csv',header=False, index=False)\n"
   ]
  },
  {
   "cell_type": "code",
   "execution_count": 63,
   "metadata": {},
   "outputs": [
    {
     "data": {
      "text/html": [
       "<div>\n",
       "<style scoped>\n",
       "    .dataframe tbody tr th:only-of-type {\n",
       "        vertical-align: middle;\n",
       "    }\n",
       "\n",
       "    .dataframe tbody tr th {\n",
       "        vertical-align: top;\n",
       "    }\n",
       "\n",
       "    .dataframe thead th {\n",
       "        text-align: right;\n",
       "    }\n",
       "</style>\n",
       "<table border=\"1\" class=\"dataframe\">\n",
       "  <thead>\n",
       "    <tr style=\"text-align: right;\">\n",
       "      <th></th>\n",
       "      <th>0</th>\n",
       "    </tr>\n",
       "  </thead>\n",
       "  <tbody>\n",
       "    <tr>\n",
       "      <th>0021900001</th>\n",
       "      <td>2019-10-22</td>\n",
       "    </tr>\n",
       "    <tr>\n",
       "      <th>0021900002</th>\n",
       "      <td>2019-10-22</td>\n",
       "    </tr>\n",
       "    <tr>\n",
       "      <th>0021900003</th>\n",
       "      <td>2019-10-23</td>\n",
       "    </tr>\n",
       "    <tr>\n",
       "      <th>0021900004</th>\n",
       "      <td>2019-10-23</td>\n",
       "    </tr>\n",
       "    <tr>\n",
       "      <th>0021900005</th>\n",
       "      <td>2019-10-23</td>\n",
       "    </tr>\n",
       "  </tbody>\n",
       "</table>\n",
       "</div>"
      ],
      "text/plain": [
       "                     0\n",
       "0021900001  2019-10-22\n",
       "0021900002  2019-10-22\n",
       "0021900003  2019-10-23\n",
       "0021900004  2019-10-23\n",
       "0021900005  2019-10-23"
      ]
     },
     "execution_count": 63,
     "metadata": {},
     "output_type": "execute_result"
    }
   ],
   "source": [
    "df.head()"
   ]
  },
  {
   "cell_type": "code",
   "execution_count": 57,
   "metadata": {},
   "outputs": [],
   "source": [
    "t=game_dict\n",
    "final_dict = {key: t[key] for key in t if key.startswith('002')}"
   ]
  },
  {
   "cell_type": "code",
   "execution_count": 59,
   "metadata": {},
   "outputs": [
    {
     "data": {
      "text/plain": [
       "{'0011900001': '2019-09-30',\n",
       " '0011900002': '2019-10-04',\n",
       " '0011900003': '2019-10-04',\n",
       " '0011900004': '2019-10-04',\n",
       " '0011900005': '2019-10-05',\n",
       " '0011900006': '2019-10-05',\n",
       " '0011900007': '2019-10-05',\n",
       " '0011900008': '2019-10-05',\n",
       " '0011900009': '2019-10-06',\n",
       " '0011900010': '2019-10-06',\n",
       " '0011900011': '2019-10-06',\n",
       " '0011900012': '2019-10-07',\n",
       " '0011900013': '2019-10-07',\n",
       " '0011900014': '2019-10-07',\n",
       " '0011900015': '2019-10-07',\n",
       " '0011900016': '2019-10-07',\n",
       " '0011900017': '2019-10-08',\n",
       " '0011900018': '2019-10-08',\n",
       " '0011900019': '2019-10-08',\n",
       " '0011900020': '2019-10-08',\n",
       " '0011900021': '2019-10-08',\n",
       " '0011900022': '2019-10-08',\n",
       " '0011900023': '2019-10-08',\n",
       " '0011900024': '2019-10-09',\n",
       " '0011900025': '2019-10-09',\n",
       " '0011900026': '2019-10-09',\n",
       " '0011900027': '2019-10-09',\n",
       " '0011900028': '2019-10-09',\n",
       " '0011900029': '2019-10-09',\n",
       " '0011900030': '2019-10-10',\n",
       " '0011900031': '2019-10-10',\n",
       " '0011900032': '2019-10-10',\n",
       " '0011900033': '2019-10-10',\n",
       " '0011900034': '2019-10-10',\n",
       " '0011900035': '2019-10-10',\n",
       " '0011900036': '2019-10-10',\n",
       " '0011900037': '2019-10-11',\n",
       " '0011900038': '2019-10-11',\n",
       " '0011900039': '2019-10-11',\n",
       " '0011900040': '2019-10-11',\n",
       " '0011900041': '2019-10-11',\n",
       " '0011900042': '2019-10-11',\n",
       " '0011900043': '2019-10-11',\n",
       " '0011900044': '2019-10-12',\n",
       " '0011900045': '2019-10-12',\n",
       " '0011900046': '2019-10-13',\n",
       " '0011900047': '2019-10-13',\n",
       " '0011900048': '2019-10-13',\n",
       " '0011900049': '2019-10-13',\n",
       " '0011900050': '2019-10-13',\n",
       " '0011900051': '2019-10-13',\n",
       " '0011900052': '2019-10-13',\n",
       " '0011900053': '2019-10-14',\n",
       " '0011900054': '2019-10-14',\n",
       " '0011900055': '2019-10-14',\n",
       " '0011900057': '2019-10-14',\n",
       " '0011900056': '2019-10-14',\n",
       " '0011900058': '2019-10-14',\n",
       " '0011900059': '2019-10-15',\n",
       " '0011900060': '2019-10-15',\n",
       " '0011900061': '2019-10-15',\n",
       " '0011900062': '2019-10-16',\n",
       " '0011900063': '2019-10-16',\n",
       " '0011900064': '2019-10-16',\n",
       " '0011900065': '2019-10-16',\n",
       " '0011900066': '2019-10-16',\n",
       " '0011900067': '2019-10-16',\n",
       " '0011900068': '2019-10-16',\n",
       " '0011900069': '2019-10-17',\n",
       " '0011900070': '2019-10-17',\n",
       " '0011900071': '2019-10-17',\n",
       " '0011900072': '2019-10-17',\n",
       " '0011900073': '2019-10-17',\n",
       " '0011900074': '2019-10-18',\n",
       " '0011900075': '2019-10-18',\n",
       " '0011900076': '2019-10-18',\n",
       " '0011900077': '2019-10-18',\n",
       " '0011900078': '2019-10-18',\n",
       " '0011900079': '2019-10-18'}"
      ]
     },
     "execution_count": 59,
     "metadata": {},
     "output_type": "execute_result"
    }
   ],
   "source": [
    "final_dict"
   ]
  },
  {
   "cell_type": "code",
   "execution_count": null,
   "metadata": {},
   "outputs": [],
   "source": []
  }
 ],
 "metadata": {
  "kernelspec": {
   "display_name": "Python 3",
   "language": "python",
   "name": "python3"
  },
  "language_info": {
   "codemirror_mode": {
    "name": "ipython",
    "version": 3
   },
   "file_extension": ".py",
   "mimetype": "text/x-python",
   "name": "python",
   "nbconvert_exporter": "python",
   "pygments_lexer": "ipython3",
   "version": "3.7.4"
  }
 },
 "nbformat": 4,
 "nbformat_minor": 4
}
