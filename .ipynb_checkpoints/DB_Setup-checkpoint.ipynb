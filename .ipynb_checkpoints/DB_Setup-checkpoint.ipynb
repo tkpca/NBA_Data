{
 "cells": [
  {
   "cell_type": "code",
   "execution_count": null,
   "metadata": {},
   "outputs": [],
   "source": [
    "with db.connect() as conn:\n",
    "    df.to_sql('player_gamelogs',conn,if_exists='append',chunksize=25_000)"
   ]
  },
  {
   "cell_type": "code",
   "execution_count": 63,
   "metadata": {},
   "outputs": [],
   "source": [
    "import pandas as pd\n",
    "from sqlalchemy import create_engine, text, engine"
   ]
  },
  {
   "cell_type": "code",
   "execution_count": 10,
   "metadata": {},
   "outputs": [],
   "source": [
    "df=pd.read_parquet(p+'\\\\df_all_gamelogs.gzip')"
   ]
  },
  {
   "cell_type": "code",
   "execution_count": 128,
   "metadata": {},
   "outputs": [],
   "source": [
    "db_name ='NBA_DB'\n",
    "db_user_name='Tarun'\n",
    "db_pwd = 'scsFEwMbbaCmqhlw'\n",
    "db_host= '34.73.178.171'\n",
    "#db_host='winter-cab-264200:us-east1:nba-database1'\n",
    "db_port='3306'\n"
   ]
  },
  {
   "cell_type": "code",
   "execution_count": 129,
   "metadata": {},
   "outputs": [],
   "source": [
    "# The SQLAlchemy engine will help manage interactions, including automatically\n",
    "# managing a pool of connections to your database\n",
    "db = create_engine(\n",
    "    # Equivalent URL:\n",
    "    # postgres+pg8000://<db_user>:<db_pass>@/<db_name>?unix_sock=/cloudsql/<cloud_sql_instance_name>/.s.PGSQL.5432\n",
    "    engine.url.URL(\n",
    "        drivername='mysql+pymysql',\n",
    "        username=db_user_name,\n",
    "        password=db_pwd,\n",
    "        database=db_name,\n",
    "        host=db_host,\n",
    "        port=db_port\n",
    "    ),\n",
    "    # ... Specify additional properties here.\n",
    "    # ...\n",
    ")"
   ]
  },
  {
   "cell_type": "code",
   "execution_count": 130,
   "metadata": {},
   "outputs": [],
   "source": [
    "conn_mysql = 'mysql+pymysql://' + db_user_name + ':' + db_pwd + '@' + db_host + ':' + db_port + '/' + db_name\n"
   ]
  },
  {
   "cell_type": "code",
   "execution_count": null,
   "metadata": {},
   "outputs": [],
   "source": [
    "db=create_engine(conn_mysql)"
   ]
  },
  {
   "cell_type": "code",
   "execution_count": 132,
   "metadata": {},
   "outputs": [
    {
     "data": {
      "text/plain": [
       "<sqlalchemy.engine.base.Connection at 0x1e89590cc88>"
      ]
     },
     "execution_count": 132,
     "metadata": {},
     "output_type": "execute_result"
    }
   ],
   "source": [
    "db.connect()"
   ]
  },
  {
   "cell_type": "code",
   "execution_count": null,
   "metadata": {},
   "outputs": [],
   "source": []
  }
 ],
 "metadata": {
  "kernelspec": {
   "display_name": "Python 3",
   "language": "python",
   "name": "python3"
  },
  "language_info": {
   "codemirror_mode": {
    "name": "ipython",
    "version": 3
   },
   "file_extension": ".py",
   "mimetype": "text/x-python",
   "name": "python",
   "nbconvert_exporter": "python",
   "pygments_lexer": "ipython3",
   "version": "3.7.4"
  }
 },
 "nbformat": 4,
 "nbformat_minor": 4
}
