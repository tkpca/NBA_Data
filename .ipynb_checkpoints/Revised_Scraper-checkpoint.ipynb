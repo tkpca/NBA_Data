{
 "cells": [
  {
   "cell_type": "markdown",
   "metadata": {},
   "source": [
    "<h1>Asynchio web request module</h1>"
   ]
  },
  {
   "cell_type": "markdown",
   "metadata": {},
   "source": [
    "<h2>Required modules</h2>\n",
    "<p>This is a simple script to pull information using the Asyncio library. It takes a list of URLs and then returns them as a list of JSON responses in a Jupyter notebook.</p>\n",
    "<p>It requires the following libararies:</p>\n",
    "<ol>\n",
    "<li><span class=\"nn\">Asyncio and Aiohttp (3.6.2) to allow the API calls to run asynchronously.</span></li>\n",
    "<li><span class=\"nn\">Ipywidgets (7.5.1)</span>&nbsp;to set the parameters.</li>\n",
    "<li>Json to process the json results.</li>\n",
    "<li>And time to display the runtime.</li></ol>\n",
    "<h3>This script is specific to pull missing player dat from the gamelogs</h3>\n",
    "<li>It takes the missing season-player pairs and calls NBA API to get all the player gamelogs for that season and saves them to a dataframe.</li>\n",
    "<p>\n",
    "    \n",
    "**After the fact**\n",
    "After comparing this data to the original dataset we confirmed that both queries return incomplete results for rebounds before 1985.\n",
    "- We know Basketball Reference has the information however since scraping it won't add that much value we will look at interpolating it in the other file.\n",
    "- If we can't find a good way of interpolating the data then we will just ignore those records since they won't have an impact on the future machine learning exercises. It will, however, impact what we can visualize going back in time.\n",
    "- We can be more confident our original query wasn't the issue since we tried something different and returned the same results. Given the number of items we looked at that indicates a likely issue with the source data."
   ]
  },
  {
   "cell_type": "code",
   "execution_count": 1,
   "metadata": {},
   "outputs": [],
   "source": [
    "import random\n",
    "import time\n",
    "import json\n",
    "import asyncio\n",
    "import aiohttp\n",
    "from ipywidgets import interact, interactive, fixed, interact_manual,Layout\n",
    "import ipywidgets as widgets\n",
    "import pandas as pd\n"
   ]
  },
  {
   "cell_type": "markdown",
   "metadata": {},
   "source": [
    "<h2>Set up parameters and headers</h2>\n",
    "<p>There are some parameters that need to be set. The ones that are mandatory will be set using a widget.</p>\n",
    "<p>The headers and parameter dictionaries are not required and be left empty. For this example the script does not require either to be set, however, if the API call does require additional parameters these dictionaries can be used to pass them into the API call.</p>\n",
    "<p>If the headers/parameters are dynamic they should be set inside the actual loop, not here.</p>\n",
    "<p>The time value, in seconds, is used to set the time for the whole query to run . This is to prevent the script from spamming the server and prevent being banned.</p>\n",
    "<p>For example if time is set to 600 the queries will take ~10 minutes (600s / 60s) to run. The script spaces each request randomly using a uniform distribution. For small numbers of requests this shouldn't matter but for large ones it prevents sending too many concurrently.</p>\n",
    "<p>The connections parameter sets the max number of concurrent connections. Setting this higher allows more queries to be completed at once. Setting it too high can result in an an issue. For large numbers of requests you can play with this to see if it increases speed. This function will get called in the main routine.</p>"
   ]
  },
  {
   "cell_type": "code",
   "execution_count": 2,
   "metadata": {},
   "outputs": [
    {
     "data": {
      "application/vnd.jupyter.widget-view+json": {
       "model_id": "83707ddebd854393bee8ef5cc5894e33",
       "version_major": 2,
       "version_minor": 0
      },
      "text/plain": [
       "IntText(value=50, description='Set the max number of connections', layout=Layout(width='30%'), style=Descripti…"
      ]
     },
     "metadata": {},
     "output_type": "display_data"
    },
    {
     "data": {
      "application/vnd.jupyter.widget-view+json": {
       "model_id": "e24e1f00dac54c73a198d5cfa27456fb",
       "version_major": 2,
       "version_minor": 0
      },
      "text/plain": [
       "IntText(value=3, description='Time for the query to run in seconds', layout=Layout(width='30%'), style=Descrip…"
      ]
     },
     "metadata": {},
     "output_type": "display_data"
    },
    {
     "data": {
      "application/vnd.jupyter.widget-view+json": {
       "model_id": "95dc193314ab4c729d64e43f48998ebb",
       "version_major": 2,
       "version_minor": 0
      },
      "text/plain": [
       "Text(value='https://stats.nba.com/stats', description='The URL for the base API', layout=Layout(width='30%'), …"
      ]
     },
     "metadata": {},
     "output_type": "display_data"
    }
   ],
   "source": [
    "#request headers and parameters are optional dictionaries.\n",
    "global wait_base\n",
    "\n",
    "req_headers=    headers = {\n",
    "    'Host': 'stats.nba.com',\n",
    "    'User-Agent': 'Mozilla/5.0 (Windows NT 10.0; Win64; x64; rv:71.0) Gecko/20100101 Firefox/71.0',\n",
    "    'Accept': 'application/json, text/plain, */*',\n",
    "    'Accept-Language': 'en-US,en;q=0.5',\n",
    "    'Referer': 'https://stats.nba.com/',\n",
    "    'Accept-Encoding': 'gzip, deflate, br',\n",
    "    'Connection': 'keep-alive',\n",
    "        }\n",
    "req_params={'EndPeriod': '10',\n",
    "    'EndRange': '28800',\n",
    "    'GameID': '0021400340',\n",
    "    'RangeType': '0',\n",
    "\n",
    "    'SeasonType': 'Regular Season',\n",
    "    'StartPeriod': '1',\n",
    "    'StartRange': '0'}  \n",
    "\n",
    "#Set a variable that sets the number of connections\n",
    "style = {'description_width': 'initial'}\n",
    "x=widgets.IntText(value=50,description='Set the max number of connections', layout=Layout(width='30%'),style=style)\n",
    "y=widgets.IntText(value=3,description='Time for the query to run in seconds', layout=Layout(width='30%'),style=style)\n",
    "url_widget= widgets.Text(value='https://stats.nba.com/stats',description='The URL for the base API', layout=Layout(width='30%'),style=style)\n",
    "display(x,y,url_widget) #show the selection widgets\n",
    "\n",
    "def set_request_param(x,y,url_widget):\n",
    "    conn= aiohttp.TCPConnector(limit=x.value)\n",
    "    wait_base=y.value\n",
    "    base_url=url_widget.value\n",
    "    \n",
    "    return(conn,wait_base,base_url)"
   ]
  },
  {
   "cell_type": "markdown",
   "metadata": {},
   "source": [
    "<h2>Request functions</h2>\n",
    "<p>There are two functions that are set up before the request itself:</p>\n",
    "<ol>\n",
    "<li><strong>get_json</strong>. This function makes the API call.</li>\n",
    "<li><strong>response</strong>. This is the function that determines the parameters for the API request. By default it only serves to use the wait parameter to space out the API calls.&nbsp;</li>\n",
    "</ol>\n",
    "<p>Note that since this will be asynchronous fuctions the the function needs to start with the prefix <strong> async </strong>. Also, the keyword <strong> await </strong> is required before you return results from the function.\n",
    "<p><strong>get_json</strong> takes three parameters:</p>\n",
    "<ol>\n",
    "<li>Client. This is the session inherited from the main routine.</li>\n",
    "<li>Headers. This takes the parameters from the dictionary in the main body.&nbsp;</li>\n",
    "<li>Params. This takes the parameters from the dictionary in the main body.</li>\n",
    "<li>URL. The URL for the API call.</li>\n",
    "</ol>\n",
    "<p><strong>response</strong> takes the same parameters as the get_json function plus a parameter, wait base. This is the number of seconds we have allocated for all of the queries. This is then used for pull a random number from the uniform distribution to determine when to sent out the next query in the sequence.</p>\n",
    "<p>The <strong>item_dict</strong> contains a dictionary that includes the path_url and additional parameters (if applicable). They are merged into the web request before it is passed on to the <strong>get_json</strong> function.</p>"
   ]
  },
  {
   "cell_type": "code",
   "execution_count": 3,
   "metadata": {},
   "outputs": [],
   "source": [
    "'''Function is used to pull the request data'''\n",
    "async def get_json(client,req_headers,req_params,url):\n",
    "    async with client.get(url,params=req_params,headers=req_headers) as response:\n",
    "        try:\n",
    "            ret=await response.json()\n",
    "            return ret\n",
    "        except Exception as e:\n",
    "            print(f'The API call to {url} returned an error, {e}')"
   ]
  },
  {
   "cell_type": "code",
   "execution_count": 4,
   "metadata": {},
   "outputs": [],
   "source": [
    "async def response_basic(wait_base,client,req_headers,req_params,url,item_dict):\n",
    "    try:\n",
    "        url=url+item_dict['path_url'] #add the path url if applicable\n",
    "    except:\n",
    "        pass\n",
    "    new_param=item_dict['params'] #pull the parameters out of the item dictionary\n",
    "    req_params ={**req_params , **new_param}\n",
    "    \n",
    "    #wait time between requests is pulled from a random uniform distribution\n",
    "    wait_t=random.uniform(0,wait_base)\n",
    "    #set a sleep between requests based on the value calculated above\n",
    "    await asyncio.sleep(wait_t)\n",
    "    response= await get_json(client,req_headers,req_params,url)\n",
    "    return response\n",
    "\n",
    "async def response_adv(wait_base,client,req_headers,req_params,url,item_dict):\n",
    "    try:\n",
    "        url=url+item_dict['path_url'] #add the path url if applicable\n",
    "    except:\n",
    "        pass\n",
    "    new_param=item_dict['params'] #pull the parameters out of the item dictionary\n",
    "    req_params ={**req_params , **new_param}\n",
    "    \n",
    "    #wait time between requests is pulled from a random uniform distribution\n",
    "    wait_t=random.uniform(0,wait_base)\n",
    "    #set a sleep between requests based on the value calculated above\n",
    "    await asyncio.sleep(wait_t)\n",
    "    response= await get_json(client,req_headers,req_params,url)\n",
    "    return response"
   ]
  },
  {
   "cell_type": "markdown",
   "metadata": {},
   "source": [
    "<h2>Main Routine</h2>\n",
    "<p>The main routine is relatively straightforward. Since this is also an asynchronous function it requires the&nbsp;<strong>async</strong> keyword.</p>\n",
    "<ol>\n",
    "<li>Call a fuction&nbsp;<strong>set_request_param&nbsp;</strong>which returns a tuple containing the request parameters that were set up earlier.</li>\n",
    "<li>Create a list of of dictionaries that contains the list of URL paths and parameters for each query. This example uses the NBA API to pull draft combine data from from the 2003-04 season to the 2019-20 season. Keep in mind this is more to illustrate the concept. In practice you would only use Asynchio when need to make many requests.</li>\n",
    "<li>Third, an AIOHTTP client session is started. This is where the actual requests take place.</li>\n",
    "<li>The&nbsp;<strong>json_data</strong> list stores a list of the tasks and&nbsp;starts the loop (via &nbsp;<strong>asyncio.create_task</strong>)<strong>&nbsp;</strong>that calls the&nbsp;<strong>response</strong> function (which in turn calls the <strong>get_json</strong> function for the API calls).&nbsp;In this case there will be two JSON responses stored in the list.</li>\n",
    "<li>The function runs and stores a list of the individual responses in the variable<strong> results</strong>. As was the case with the&nbsp;<strong>get_json</strong> function the keyword <strong>await</strong> is required to make sure the script waits for all of the responses to be returned.</li>\n",
    "<li>The results of the query will be available for processing in a list called&nbsp;<strong>results<em>.</em></strong></li>\n",
    "</ol>\n",
    "<p>&nbsp;</p>"
   ]
  },
  {
   "cell_type": "code",
   "execution_count": 5,
   "metadata": {},
   "outputs": [],
   "source": [
    "def total_games(season):\n",
    "    if season == 1998:\n",
    "        total_g=725\n",
    "    elif season ==2011:\n",
    "        total_g=1025\n",
    "    elif season <=1987:\n",
    "        total_g=943\n",
    "    elif season <=1994:\n",
    "        total_g=1107\n",
    "    elif season <=1994:\n",
    "        total_g=1189\n",
    "    else:\n",
    "        total_g=1230\n",
    "    return total_g\n",
    "\n",
    "items_basic=[]\n",
    "items_adv=[]\n",
    "\n",
    "for i in range(1980,2020):\n",
    "    season_start=str(int(i))[2:]\n",
    "    gameid=f'002{season_start}0' #+ 4 digits 0340'\n",
    "    season_end=str(int(i+1))[2:4]\n",
    "    season=f'{str(i)}-{season_end}'\n",
    "    \n",
    "    game_count=total_games(i)\n",
    "    items_basic.append([{'path_url':'/boxscoretraditionalv2','params':{'Season':season,'GameID':f'{gameid}{str(games).zfill(4)}'}} for games in range(1,game_count+1)])\n",
    "    items_adv.append([{'path_url':'/boxscoreadvancedv2','params':{'Season':season,'GameID':f'{gameid}{str(games).zfill(4)}'}} for games in range(1,game_count+1)])"
   ]
  },
  {
   "cell_type": "code",
   "execution_count": null,
   "metadata": {},
   "outputs": [],
   "source": [
    "#items_basic[39][0:2],items_adv[39][0:2]\n",
    "basic_list=[]\n",
    "adv_list=[]\n",
    "basic_list=[item for list1 in items_basic for item in list1]\n",
    "adv_list=[item for list1 in items_adv for item in list1]\n",
    "basic_list[43000:43002],adv_list[43000:43002]\n",
    "#len(basic_list),len(adv_list)"
   ]
  },
  {
   "cell_type": "code",
   "execution_count": 7,
   "metadata": {},
   "outputs": [],
   "source": [
    "async def main():\n",
    "    #get the connection and wait parameters based on the user's inputs\n",
    "    conn,wait_base,base_url=set_request_param(x,y,url_widget)\n",
    "    print(f'Estimated time in hours: {wait_base/60/60}')\n",
    "    #This is a list of dictionaries to loop through that includes any path URLs or parameters\n",
    "    start_time = time.time()\n",
    "    \n",
    "    async with aiohttp.ClientSession(connector=conn) as client: #create the client sesson object that persists across requests\n",
    "        \n",
    "        '''create task is used to start the task to pull all the asynch requests'''\n",
    "        json_data_basic=[asyncio.create_task(response_basic(wait_base,client,req_headers,req_params,base_url,item_dict)) for item_dict in basic_list]\n",
    "        json_data_adv=[asyncio.create_task(response_adv(wait_base,client,req_headers,req_params,base_url,item_dict)) for item_dict in adv_list]\n",
    "            \n",
    "        #The await...gather ensures all of the queries are complete before the function returns the list of JSONs back to the main program\n",
    "        results_basic = await asyncio.gather(*json_data_basic, return_exceptions=True)\n",
    "        results_adv = await asyncio.gather(*json_data_adv, return_exceptions=True)\n",
    "        print(f'it took {round(time.time() - start_time,2)} seconds to go through: {len(items_basic)+len(items_adv)} items')\n",
    "        return results_basic,results_adv\n",
    "    "
   ]
  },
  {
   "cell_type": "code",
   "execution_count": 8,
   "metadata": {},
   "outputs": [
    {
     "name": "stdout",
     "output_type": "stream",
     "text": [
      "Estimated time in hours: 5.555555555555555\n",
      "The API call to https://stats.nba.com/stats/boxscoreadvancedv2 returned an error, 0, message='Attempt to decode JSON with unexpected mimetype: text/html', url=URL('https://stats.nba.com/stats/boxscoreadvancedv2?EndPeriod=10&EndRange=28800&GameID=0029900712&RangeType=0&SeasonType=Regular+Season&StartPeriod=1&StartRange=0&Season=1999-00')\n",
      "it took 20007.07 seconds to go through: 80 items\n"
     ]
    }
   ],
   "source": [
    "'''Call the main routine and result the results of the webqueries'''\n",
    "if __name__ ==  '__main__':\n",
    "    results_Bas,results_Adv =await main()"
   ]
  },
  {
   "cell_type": "markdown",
   "metadata": {},
   "source": [
    "<h2>Missing Player Logs</h2>\n",
    "<p>The missing player logs are stored in a list called results. Use the resultSets to get the headers and values for the dataframe\n",
    "<ol>1) Need to flatten the json and create a dataframe with the missing player data.</ol>\n",
    "<ol>2) Save the data to a file so we can merge it back and correct for the missing records in the first pull.</ol>\n",
    "</p>"
   ]
  },
  {
   "cell_type": "code",
   "execution_count": null,
   "metadata": {},
   "outputs": [],
   "source": [
    "import os\n",
    "savedir=os.getcwd()\n",
    "df_player.to_parquet(f'{savedir}\\\\df_missing_players.gzip',compression='gzip')\n",
    "\n",
    "#3 is table index\n",
    "#results_Bas[0]['resultSets'][0]['headers']"
   ]
  },
  {
   "cell_type": "code",
   "execution_count": null,
   "metadata": {},
   "outputs": [],
   "source": [
    "#Needed to normalize the results to flatten the results\n",
    "from pandas.io.json import json_normalize"
   ]
  },
  {
   "cell_type": "code",
   "execution_count": 148,
   "metadata": {},
   "outputs": [],
   "source": [
    "def create_df(dataframe,df_cols):\n",
    "    df=pd.DataFrame(json_normalize(dataframe,record_path=['rowSet'],sep=\"_\"))\n",
    "    return df"
   ]
  },
  {
   "cell_type": "code",
   "execution_count": 190,
   "metadata": {},
   "outputs": [],
   "source": [
    "def basic_results(results_Bas,tableindex):\n",
    "    df_cols=[]\n",
    "    df_basic=[]\n",
    "    df_err=[]\n",
    "    df_cols=results_Bas[0]['resultSets'][tableindex]['headers']\n",
    "    df=pd.DataFrame()\n",
    "    \n",
    "    for i,j in enumerate(results_Bas):\n",
    "        try:\n",
    "            df_basic.append(results_Bas[i]['resultSets'][tableindex])\n",
    "            \n",
    "        except Exception as e:\n",
    "            df_err.append((i,e))\n",
    "    \n",
    "    df_basic=create_df(df_basic,df_cols)\n",
    "    df_basic.columns=df_cols\n",
    "    return df_basic,df_err   \n",
    "    "
   ]
  },
  {
   "cell_type": "code",
   "execution_count": 197,
   "metadata": {},
   "outputs": [],
   "source": [
    "def adv_results(results_Adv,tableindex):\n",
    "    df_cols=[]\n",
    "    df_adv=[]\n",
    "    df_err=[]\n",
    "    df_cols=results_Adv[-1]['resultSets'][tableindex]['headers']\n",
    "    df=pd.DataFrame()\n",
    "    for i,j in enumerate(results_Adv):\n",
    "        try:\n",
    "            df_adv.append(results_Adv[i]['resultSets'][tableindex])\n",
    "            \n",
    "        except Exception as e:\n",
    "            df_err.append((i,e))\n",
    "    \n",
    "    df_adv=create_df(df_adv,df_cols)\n",
    "    df_adv.columns=df_cols\n",
    "    return df_adv,df_err "
   ]
  },
  {
   "cell_type": "code",
   "execution_count": null,
   "metadata": {},
   "outputs": [],
   "source": [
    "df_basic_PlayerStats,basic_PlayerStats_err=basic_results(results_Bas,0)\n",
    "df_basic_TeamStats,basic_TeamStats_err=basic_results(results_Bas,1)\n",
    "df_basic_TeamStarterBenchStats,basic_TeamStarterBenchStats_err=basic_results(results_Bas,2)"
   ]
  },
  {
   "cell_type": "code",
   "execution_count": 198,
   "metadata": {},
   "outputs": [
    {
     "name": "stdout",
     "output_type": "stream",
     "text": [
      "{'name': 'PlayerStats', 'headers': [], 'rowSet': []}\n",
      "{'name': 'TeamStats', 'headers': [], 'rowSet': []}\n"
     ]
    }
   ],
   "source": [
    "df_adv_PlayerStats,adv_PlayerStats_err=adv_results(results_Adv,0)\n",
    "df_adv_TeamStats,adv_TeamStats_err=adv_results(results_Adv,1)"
   ]
  },
  {
   "cell_type": "code",
   "execution_count": 223,
   "metadata": {},
   "outputs": [
    {
     "data": {
      "text/html": [
       "<div>\n",
       "<style scoped>\n",
       "    .dataframe tbody tr th:only-of-type {\n",
       "        vertical-align: middle;\n",
       "    }\n",
       "\n",
       "    .dataframe tbody tr th {\n",
       "        vertical-align: top;\n",
       "    }\n",
       "\n",
       "    .dataframe thead th {\n",
       "        text-align: right;\n",
       "    }\n",
       "</style>\n",
       "<table border=\"1\" class=\"dataframe\">\n",
       "  <thead>\n",
       "    <tr style=\"text-align: right;\">\n",
       "      <th></th>\n",
       "      <th>GAME_ID</th>\n",
       "      <th>TEAM_ID</th>\n",
       "      <th>TEAM_NAME</th>\n",
       "      <th>TEAM_ABBREVIATION</th>\n",
       "      <th>TEAM_CITY</th>\n",
       "      <th>STARTERS_BENCH</th>\n",
       "      <th>MIN</th>\n",
       "      <th>FGM</th>\n",
       "      <th>FGA</th>\n",
       "      <th>FG_PCT</th>\n",
       "      <th>...</th>\n",
       "      <th>FT_PCT</th>\n",
       "      <th>OREB</th>\n",
       "      <th>DREB</th>\n",
       "      <th>REB</th>\n",
       "      <th>AST</th>\n",
       "      <th>STL</th>\n",
       "      <th>BLK</th>\n",
       "      <th>TO</th>\n",
       "      <th>PF</th>\n",
       "      <th>PTS</th>\n",
       "    </tr>\n",
       "  </thead>\n",
       "  <tbody>\n",
       "    <tr>\n",
       "      <th>111151</th>\n",
       "      <td>0021900533</td>\n",
       "      <td>1610612758</td>\n",
       "      <td>Kings</td>\n",
       "      <td>SAC</td>\n",
       "      <td>Sacramento</td>\n",
       "      <td>Starters</td>\n",
       "      <td>166:51</td>\n",
       "      <td>31.0</td>\n",
       "      <td>68.0</td>\n",
       "      <td>0.456</td>\n",
       "      <td>...</td>\n",
       "      <td>0.735</td>\n",
       "      <td>13.0</td>\n",
       "      <td>28.0</td>\n",
       "      <td>41.0</td>\n",
       "      <td>12.0</td>\n",
       "      <td>5.0</td>\n",
       "      <td>2.0</td>\n",
       "      <td>15.0</td>\n",
       "      <td>15.0</td>\n",
       "      <td>96.0</td>\n",
       "    </tr>\n",
       "    <tr>\n",
       "      <th>111152</th>\n",
       "      <td>0021900533</td>\n",
       "      <td>1610612758</td>\n",
       "      <td>Kings</td>\n",
       "      <td>SAC</td>\n",
       "      <td>Sacramento</td>\n",
       "      <td>Bench</td>\n",
       "      <td>73:09</td>\n",
       "      <td>7.0</td>\n",
       "      <td>17.0</td>\n",
       "      <td>0.412</td>\n",
       "      <td>...</td>\n",
       "      <td>1.000</td>\n",
       "      <td>1.0</td>\n",
       "      <td>9.0</td>\n",
       "      <td>10.0</td>\n",
       "      <td>8.0</td>\n",
       "      <td>4.0</td>\n",
       "      <td>1.0</td>\n",
       "      <td>5.0</td>\n",
       "      <td>9.0</td>\n",
       "      <td>19.0</td>\n",
       "    </tr>\n",
       "    <tr>\n",
       "      <th>111153</th>\n",
       "      <td>0021900533</td>\n",
       "      <td>1610612740</td>\n",
       "      <td>Pelicans</td>\n",
       "      <td>NOP</td>\n",
       "      <td>New Orleans</td>\n",
       "      <td>Starters</td>\n",
       "      <td>153:29</td>\n",
       "      <td>30.0</td>\n",
       "      <td>65.0</td>\n",
       "      <td>0.462</td>\n",
       "      <td>...</td>\n",
       "      <td>0.944</td>\n",
       "      <td>5.0</td>\n",
       "      <td>24.0</td>\n",
       "      <td>29.0</td>\n",
       "      <td>24.0</td>\n",
       "      <td>7.0</td>\n",
       "      <td>2.0</td>\n",
       "      <td>10.0</td>\n",
       "      <td>15.0</td>\n",
       "      <td>90.0</td>\n",
       "    </tr>\n",
       "    <tr>\n",
       "      <th>111154</th>\n",
       "      <td>0021900533</td>\n",
       "      <td>1610612740</td>\n",
       "      <td>Pelicans</td>\n",
       "      <td>NOP</td>\n",
       "      <td>New Orleans</td>\n",
       "      <td>Bench</td>\n",
       "      <td>73:40</td>\n",
       "      <td>7.0</td>\n",
       "      <td>21.0</td>\n",
       "      <td>0.333</td>\n",
       "      <td>...</td>\n",
       "      <td>0.545</td>\n",
       "      <td>3.0</td>\n",
       "      <td>11.0</td>\n",
       "      <td>14.0</td>\n",
       "      <td>4.0</td>\n",
       "      <td>4.0</td>\n",
       "      <td>1.0</td>\n",
       "      <td>3.0</td>\n",
       "      <td>10.0</td>\n",
       "      <td>23.0</td>\n",
       "    </tr>\n",
       "  </tbody>\n",
       "</table>\n",
       "<p>4 rows × 25 columns</p>\n",
       "</div>"
      ],
      "text/plain": [
       "           GAME_ID     TEAM_ID TEAM_NAME TEAM_ABBREVIATION    TEAM_CITY  \\\n",
       "111151  0021900533  1610612758     Kings               SAC   Sacramento   \n",
       "111152  0021900533  1610612758     Kings               SAC   Sacramento   \n",
       "111153  0021900533  1610612740  Pelicans               NOP  New Orleans   \n",
       "111154  0021900533  1610612740  Pelicans               NOP  New Orleans   \n",
       "\n",
       "       STARTERS_BENCH     MIN   FGM   FGA  FG_PCT  ...  FT_PCT  OREB  DREB  \\\n",
       "111151       Starters  166:51  31.0  68.0   0.456  ...   0.735  13.0  28.0   \n",
       "111152          Bench   73:09   7.0  17.0   0.412  ...   1.000   1.0   9.0   \n",
       "111153       Starters  153:29  30.0  65.0   0.462  ...   0.944   5.0  24.0   \n",
       "111154          Bench   73:40   7.0  21.0   0.333  ...   0.545   3.0  11.0   \n",
       "\n",
       "         REB   AST  STL  BLK    TO    PF   PTS  \n",
       "111151  41.0  12.0  5.0  2.0  15.0  15.0  96.0  \n",
       "111152  10.0   8.0  4.0  1.0   5.0   9.0  19.0  \n",
       "111153  29.0  24.0  7.0  2.0  10.0  15.0  90.0  \n",
       "111154  14.0   4.0  4.0  1.0   3.0  10.0  23.0  \n",
       "\n",
       "[4 rows x 25 columns]"
      ]
     },
     "execution_count": 223,
     "metadata": {},
     "output_type": "execute_result"
    }
   ],
   "source": [
    "df_basic_TeamStarterBenchStats[df_basic_TeamStarterBenchStats.GAME_ID=='0021900533']"
   ]
  },
  {
   "cell_type": "code",
   "execution_count": 221,
   "metadata": {},
   "outputs": [],
   "source": [
    "df_adv_PlayerStats.drop([680136, 680137, 680138, 680139, 680140, 680141, 680142, 680143,\n",
    "            680144, 680145, 680146, 680147, 680148, 680149, 680150, 680151,\n",
    "            680152, 680153, 680154, 680155, 680156, 680157, 680158, 680159,\n",
    "            680160],inplace=True)"
   ]
  },
  {
   "cell_type": "code",
   "execution_count": null,
   "metadata": {},
   "outputs": [],
   "source": []
  }
 ],
 "metadata": {
  "kernelspec": {
   "display_name": "Python 3",
   "language": "python",
   "name": "python3"
  },
  "language_info": {
   "codemirror_mode": {
    "name": "ipython",
    "version": 3
   },
   "file_extension": ".py",
   "mimetype": "text/x-python",
   "name": "python",
   "nbconvert_exporter": "python",
   "pygments_lexer": "ipython3",
   "version": "3.7.4"
  }
 },
 "nbformat": 4,
 "nbformat_minor": 4
}
