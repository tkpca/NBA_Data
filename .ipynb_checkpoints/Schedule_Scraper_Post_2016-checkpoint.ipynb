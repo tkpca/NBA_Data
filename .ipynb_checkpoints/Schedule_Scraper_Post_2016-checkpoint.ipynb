{
 "cells": [
  {
   "cell_type": "code",
   "execution_count": 1,
   "metadata": {},
   "outputs": [],
   "source": [
    "from selenium.webdriver.chrome.options import Options \n",
    "from selenium import webdriver\n",
    "from selenium.webdriver import Chrome\n",
    "from selenium.webdriver.common.by import By\n",
    "from selenium.webdriver.support.ui import WebDriverWait\n",
    "from selenium.webdriver.support import expected_conditions as EC\n",
    "import pandas as pd\n",
    "import requests\n",
    "import random\n",
    "import time"
   ]
  },
  {
   "cell_type": "code",
   "execution_count": 2,
   "metadata": {},
   "outputs": [
    {
     "name": "stdout",
     "output_type": "stream",
     "text": [
      "https://data.nba.com/data/10s/v2015/json/mobile_teams/nba/2019/league/00_full_schedule_week.json\n"
     ]
    }
   ],
   "source": [
    "year_to_pull='2019'\n",
    "sched_url='https://data.nba.com/data/10s/v2015/json/mobile_teams/nba/'+ year_to_pull +'/league/00_full_schedule_week.json' #edit later and make it dynamic\n",
    "print(sched_url)\n",
    "response = requests.get(sched_url)\n",
    "data=response.json() #convert the response in to a JSON dictionary\n",
    "schedule=data['lscd'] #get all the games by month\n"
   ]
  },
  {
   "cell_type": "code",
   "execution_count": 3,
   "metadata": {},
   "outputs": [],
   "source": [
    "existing_games=[]\n",
    "try:\n",
    "    df_check=pd.read_csv(year_to_pull+'_nba_gamelogs.csv',dtype={'gid': object}) #open the existing database for the selected year. Make sure to set 'gid' to object so leading zeroes are not removed\n",
    "    existing_games=list(set(df_check.gid)) #get a list of the games already in the database. Use a tuple to only keep the unique games\n",
    "\n",
    "except:\n",
    "    print('no csv')"
   ]
  },
  {
   "cell_type": "code",
   "execution_count": 4,
   "metadata": {},
   "outputs": [],
   "source": [
    "from datetime import datetime #import the datetime module\n",
    "game_mon=[schedule[x]['mscd'] for x in range(0,len(schedule))] #filter down to the subjset of the JSON with the gameIDs\n",
    "\n",
    "game_list=[] #a list contains all of the months in the year, the individual gameIDs and the date of the game\n",
    "temp =[]\n",
    "\n",
    "for i in range(0,len(game_mon)): #gam_mon is an array of all the months in the json\n",
    "    num_games=len(game_mon[i]['g']) #number of games in a month\n",
    "    if int(year_to_pull)>2016: #after 2016 need to exclude preseason\n",
    "        temp.append([{game_mon[i]['g'][a]['gid']:datetime.strptime(game_mon[i]['g'][a]['gdte'],'%Y-%m-%d').date()} for a in range(0,num_games) if game_mon[i]['g'][a]['gweek'] != None]) #list of gameIds and the game_dates converted into python dates (no datetime)\n",
    "    else: #preseason games do not appear to be captured before 2017\n",
    "        temp.append([{game_mon[i]['g'][a]['gid']:datetime.strptime(game_mon[i]['g'][a]['gdte'],'%Y-%m-%d').date()} for a in range(0,num_games)]) #list of gameIds and the game_dates converted into python dates (no datetime)\n",
    "\n",
    "#temp =list(filter(len, temp)) #remove any empty elements\n",
    "game_list = [item for sublist in temp for item in sublist] #flatten the list to get a list of game_ids and the the game dates"
   ]
  },
  {
   "cell_type": "code",
   "execution_count": 5,
   "metadata": {},
   "outputs": [
    {
     "data": {
      "text/plain": [
       "'0011900001'"
      ]
     },
     "execution_count": 5,
     "metadata": {},
     "output_type": "execute_result"
    }
   ],
   "source": [
    "schedule[0]['mscd']['g'][0]['gid']"
   ]
  },
  {
   "cell_type": "code",
   "execution_count": 6,
   "metadata": {},
   "outputs": [],
   "source": [
    "from collections import ChainMap\n",
    "game_list=dict(ChainMap(*game_list)) #convert the list to one dictionary"
   ]
  },
  {
   "cell_type": "code",
   "execution_count": 7,
   "metadata": {},
   "outputs": [],
   "source": [
    "from datetime import datetime #import the datetime module\n",
    "max_date=datetime.date(datetime.now()) #get the current date and set it the upper bound for the query."
   ]
  },
  {
   "cell_type": "code",
   "execution_count": 8,
   "metadata": {},
   "outputs": [],
   "source": [
    "game_list_key = [key for key,val in game_list.items() if val < max_date and key not in existing_games] #identify the games for the query"
   ]
  },
  {
   "cell_type": "code",
   "execution_count": 9,
   "metadata": {},
   "outputs": [
    {
     "name": "stdout",
     "output_type": "stream",
     "text": [
      "0 []\n"
     ]
    }
   ],
   "source": [
    "game_list_key=[item for item in game_list_key if item not in existing_games]\n",
    "print(len(game_list_key),game_list_key)"
   ]
  },
  {
   "cell_type": "code",
   "execution_count": 10,
   "metadata": {},
   "outputs": [],
   "source": [
    "def create_df(data):\n",
    "    from datetime import date\n",
    "    gm_id=data['g']['gid'] #get the game ID\n",
    "    #access the dictionary keys for the visitors and home teams\n",
    "    vt_pl_sel=data['g']['vls']['pstsg'] #visiting team player stats\n",
    "    hm_pl_sel=data['g']['hls']['pstsg'] #home team player stats\n",
    "    \n",
    "    #visitors_df\n",
    "    v_df=pd.DataFrame.from_dict(vt_pl_sel)\n",
    "    v_df['gid']=gm_id #add game id\n",
    "    v_df['hm_away']='A' #set as away team\n",
    "    v_df['team']=data['g']['vls']['ta'] #get visitor team name\n",
    "    v_df['game_date']=data['g']['gdte'] #get the date of the game\n",
    "\n",
    "\n",
    "    #home df\n",
    "    h_df=pd.DataFrame.from_dict(hm_pl_sel)\n",
    "    h_df['gid']=gm_id #add game id\n",
    "    h_df['hm_away']='H' #set as home team\n",
    "    h_df['team']=data['g']['hls']['ta'] #get home team name\n",
    "    h_df['game_date']=data['g']['gdte'] #get the date of the game\n",
    "    \n",
    "    box_df=v_df.append(h_df,ignore_index=True) #merge home and away dateframes\n",
    "    box_df['full_name']=box_df.fn+' '+box_df.ln #add full name field\n",
    "    box_df['epoch']= data['g']['mid'] #get epoch time\n",
    "    box_df['full_dt'] = pd.to_datetime(box_df['epoch'], unit = 'ms')\n",
    "    return box_df #return the df for that day"
   ]
  },
  {
   "cell_type": "code",
   "execution_count": 11,
   "metadata": {},
   "outputs": [
    {
     "name": "stdout",
     "output_type": "stream",
     "text": [
      "--- 0.0010151863098144531 seconds ---\n"
     ]
    },
    {
     "ename": "AttributeError",
     "evalue": "'DataFrame' object has no attribute 'gid'",
     "output_type": "error",
     "traceback": [
      "\u001b[1;31m---------------------------------------------------------------------------\u001b[0m",
      "\u001b[1;31mAttributeError\u001b[0m                            Traceback (most recent call last)",
      "\u001b[1;32m<ipython-input-11-2ffc2fbfce21>\u001b[0m in \u001b[0;36m<module>\u001b[1;34m\u001b[0m\n\u001b[0;32m     14\u001b[0m \u001b[1;33m\u001b[0m\u001b[0m\n\u001b[0;32m     15\u001b[0m \u001b[1;33m\u001b[0m\u001b[0m\n\u001b[1;32m---> 16\u001b[1;33m \u001b[0mbox_df\u001b[0m\u001b[1;33m.\u001b[0m\u001b[0mgid\u001b[0m\u001b[1;33m.\u001b[0m\u001b[0mdtype\u001b[0m\u001b[1;33m\u001b[0m\u001b[1;33m\u001b[0m\u001b[0m\n\u001b[0m",
      "\u001b[1;32mC:\\ProgramData\\Anaconda3\\lib\\site-packages\\pandas\\core\\generic.py\u001b[0m in \u001b[0;36m__getattr__\u001b[1;34m(self, name)\u001b[0m\n\u001b[0;32m   5177\u001b[0m             \u001b[1;32mif\u001b[0m \u001b[0mself\u001b[0m\u001b[1;33m.\u001b[0m\u001b[0m_info_axis\u001b[0m\u001b[1;33m.\u001b[0m\u001b[0m_can_hold_identifiers_and_holds_name\u001b[0m\u001b[1;33m(\u001b[0m\u001b[0mname\u001b[0m\u001b[1;33m)\u001b[0m\u001b[1;33m:\u001b[0m\u001b[1;33m\u001b[0m\u001b[1;33m\u001b[0m\u001b[0m\n\u001b[0;32m   5178\u001b[0m                 \u001b[1;32mreturn\u001b[0m \u001b[0mself\u001b[0m\u001b[1;33m[\u001b[0m\u001b[0mname\u001b[0m\u001b[1;33m]\u001b[0m\u001b[1;33m\u001b[0m\u001b[1;33m\u001b[0m\u001b[0m\n\u001b[1;32m-> 5179\u001b[1;33m             \u001b[1;32mreturn\u001b[0m \u001b[0mobject\u001b[0m\u001b[1;33m.\u001b[0m\u001b[0m__getattribute__\u001b[0m\u001b[1;33m(\u001b[0m\u001b[0mself\u001b[0m\u001b[1;33m,\u001b[0m \u001b[0mname\u001b[0m\u001b[1;33m)\u001b[0m\u001b[1;33m\u001b[0m\u001b[1;33m\u001b[0m\u001b[0m\n\u001b[0m\u001b[0;32m   5180\u001b[0m \u001b[1;33m\u001b[0m\u001b[0m\n\u001b[0;32m   5181\u001b[0m     \u001b[1;32mdef\u001b[0m \u001b[0m__setattr__\u001b[0m\u001b[1;33m(\u001b[0m\u001b[0mself\u001b[0m\u001b[1;33m,\u001b[0m \u001b[0mname\u001b[0m\u001b[1;33m,\u001b[0m \u001b[0mvalue\u001b[0m\u001b[1;33m)\u001b[0m\u001b[1;33m:\u001b[0m\u001b[1;33m\u001b[0m\u001b[1;33m\u001b[0m\u001b[0m\n",
      "\u001b[1;31mAttributeError\u001b[0m: 'DataFrame' object has no attribute 'gid'"
     ]
    }
   ],
   "source": [
    "#loop through games and create dataframe\n",
    "\n",
    "start_time = time.time()\n",
    "\n",
    "box_df=pd.DataFrame() #empty the old dataframe\n",
    "for i in game_list_key: #loop through all of the games \n",
    "    game_url='https://data.nba.com/data/10s/v2015/json/mobile_teams/nba/' + year_to_pull + '/scores/gamedetail/'+str(i)+'_gamedetail.json'\n",
    "    response = requests.get(game_url)\n",
    "    data=response.json() #convert the response in to a JSON dictionary\n",
    "    box_df=box_df.append(create_df(data),ignore_index=True)\n",
    "    box_df['season']=(str(year_to_pull)+'-'+str((int(year_to_pull)+1)))\n",
    "\n",
    "print(\"--- %s seconds ---\" % (time.time() - start_time))\n",
    "\n",
    "    \n",
    "box_df.gid.dtype\n"
   ]
  },
  {
   "cell_type": "code",
   "execution_count": 13,
   "metadata": {},
   "outputs": [],
   "source": [
    "import os.path\n",
    "from os import path\n",
    "filename=year_to_pull+'_nba_gamelogs.csv'\n",
    "\n",
    "if os.path.isfile(filename):\n",
    "    box_df.to_csv(year_to_pull+'_nba_gamelogs.csv',index=False, mode='a',header=False)\n",
    "else:\n",
    "    box_df.to_csv(year_to_pull+'_nba_gamelogs.csv',index=False)"
   ]
  },
  {
   "cell_type": "code",
   "execution_count": 14,
   "metadata": {},
   "outputs": [
    {
     "data": {
      "text/html": [
       "<div>\n",
       "<style scoped>\n",
       "    .dataframe tbody tr th:only-of-type {\n",
       "        vertical-align: middle;\n",
       "    }\n",
       "\n",
       "    .dataframe tbody tr th {\n",
       "        vertical-align: top;\n",
       "    }\n",
       "\n",
       "    .dataframe thead th {\n",
       "        text-align: right;\n",
       "    }\n",
       "</style>\n",
       "<table border=\"1\" class=\"dataframe\">\n",
       "  <thead>\n",
       "    <tr style=\"text-align: right;\">\n",
       "      <th></th>\n",
       "    </tr>\n",
       "  </thead>\n",
       "  <tbody>\n",
       "  </tbody>\n",
       "</table>\n",
       "</div>"
      ],
      "text/plain": [
       "Empty DataFrame\n",
       "Columns: []\n",
       "Index: []"
      ]
     },
     "execution_count": 14,
     "metadata": {},
     "output_type": "execute_result"
    }
   ],
   "source": [
    "box_df.head()"
   ]
  },
  {
   "cell_type": "code",
   "execution_count": null,
   "metadata": {},
   "outputs": [],
   "source": []
  },
  {
   "cell_type": "code",
   "execution_count": null,
   "metadata": {},
   "outputs": [],
   "source": []
  }
 ],
 "metadata": {
  "kernelspec": {
   "display_name": "Python 3",
   "language": "python",
   "name": "python3"
  },
  "language_info": {
   "codemirror_mode": {
    "name": "ipython",
    "version": 3
   },
   "file_extension": ".py",
   "mimetype": "text/x-python",
   "name": "python",
   "nbconvert_exporter": "python",
   "pygments_lexer": "ipython3",
   "version": "3.7.5"
  }
 },
 "nbformat": 4,
 "nbformat_minor": 4
}
