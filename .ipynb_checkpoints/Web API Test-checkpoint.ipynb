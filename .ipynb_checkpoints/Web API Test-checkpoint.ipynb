{
 "cells": [
  {
   "cell_type": "code",
   "execution_count": 5,
   "metadata": {},
   "outputs": [],
   "source": [
    "import requests\n",
    "import json\n",
    "from requests.exceptions import HTTPError\n"
   ]
  },
  {
   "cell_type": "code",
   "execution_count": 6,
   "metadata": {},
   "outputs": [],
   "source": [
    "def get_json(url,headers,payload):\n",
    "\n",
    "    client=requests.Session()\n",
    "    \n",
    "    with client.get(url=url,params=payload,headers=headers) as response:\n",
    "        try:\n",
    "            assert response.status_code==200\n",
    "            ret=response\n",
    "            return ret.json()\n",
    "        except HTTPError as http_err:\n",
    "            print(f'HTTP error occurred: {http_err}')\n",
    "        except AssertionError:\n",
    "            pass"
   ]
  },
  {
   "cell_type": "code",
   "execution_count": 14,
   "metadata": {},
   "outputs": [
    {
     "name": "stdin",
     "output_type": "stream",
     "text": [
      "Choose a season 2005\n"
     ]
    },
    {
     "name": "stdout",
     "output_type": "stream",
     "text": [
      "2005-06\n"
     ]
    }
   ],
   "source": [
    "'''for the gamelogs'''\n",
    "headers = {\n",
    "'Host': 'stats.nba.com',\n",
    "'User-Agent': 'Mozilla/5.0 (Windows NT 10.0; Win64; x64; rv:71.0) Gecko/20100101 Firefox/71.0',\n",
    "'Accept': 'application/json, text/plain, */*',\n",
    "'Accept-Language': 'en-US,en;q=0.5',\n",
    "'Referer': 'https://stats.nba.com/',\n",
    "'Accept-Encoding': 'gzip, deflate, br',\n",
    "'Connection': 'keep-alive',\n",
    "    }\n",
    "\n",
    "\n",
    "payload_={'EndPeriod': '10',\n",
    "'EndRange': '28800',\n",
    "'GameID': '0021400340',\n",
    "'RangeType': '0',\n",
    "'Season': '2019-20',\n",
    "'SeasonType': 'Regular Season',\n",
    "'StartPeriod': '1',\n",
    "'StartRange': '0'}    \n",
    "\n",
    "\n",
    "season_param=str(input('Choose a season'))\n",
    "\n",
    "season_param=(season_param)+'-'+ str(int(season_param)+1)[2:4]\n",
    "\n",
    "print(season_param)\n",
    "\n",
    "game_id='0028000291'\n",
    "payload['Season']=season_param\n",
    "payload['GameID']=game_id\n",
    "url_b='https://stats.nba.com/stats/boxscoretraditionalv2' #basic box\n",
    "url_a='https://stats.nba.com/stats/boxscoreadvancedv2'#adv box\n",
    "\n",
    "data=get_json(url_b,headers, payload)"
   ]
  },
  {
   "cell_type": "code",
   "execution_count": 13,
   "metadata": {},
   "outputs": [],
   "source": [
    "data1=data"
   ]
  },
  {
   "cell_type": "code",
   "execution_count": 25,
   "metadata": {},
   "outputs": [],
   "source": [
    "'''for player bio data per season'''\n",
    "\n",
    "headers = {\n",
    "'Host': 'stats.nba.com',\n",
    "'User-Agent': 'Mozilla/5.0 (Windows NT 10.0; Win64; x64; rv:71.0) Gecko/20100101 Firefox/71.0',\n",
    "'Accept': 'application/json, text/plain, */*',\n",
    "'Accept-Language': 'en-US,en;q=0.5',\n",
    "'Referer': 'https://stats.nba.com/',\n",
    "'Accept-Encoding': 'gzip, deflate, br',\n",
    "'Connection': 'keep-alive',\n",
    "    }\n",
    "\n",
    "payload={\n",
    "'PerMode': 'PerGame',\n",
    "'LeagueID': '00',\n",
    "'Season': '2019-20',\n",
    "'SeasonType': 'Regular Season',\n",
    "'PORound': '0',\n",
    "'Month': '0',\n",
    "'OpponentTeamID': '0',\n",
    "'TeamID': '0',\n",
    "'Period': '0'}\n",
    "\n",
    "url_pl='https://stats.nba.com/stats/leaguedashplayerbiostats'\n",
    "\n",
    "data=get_json(url_pl,headers, payload)"
   ]
  },
  {
   "cell_type": "code",
   "execution_count": null,
   "metadata": {},
   "outputs": [],
   "source": [
    "data['resultSets'][0]['rowSet']"
   ]
  },
  {
   "cell_type": "code",
   "execution_count": 63,
   "metadata": {},
   "outputs": [],
   "source": []
  },
  {
   "cell_type": "code",
   "execution_count": 66,
   "metadata": {},
   "outputs": [
    {
     "data": {
      "text/plain": [
       "['1990-1991_data.h5']"
      ]
     },
     "execution_count": 66,
     "metadata": {},
     "output_type": "execute_result"
    }
   ],
   "source": []
  },
  {
   "cell_type": "code",
   "execution_count": null,
   "metadata": {},
   "outputs": [],
   "source": []
  }
 ],
 "metadata": {
  "kernelspec": {
   "display_name": "Python 3",
   "language": "python",
   "name": "python3"
  },
  "language_info": {
   "codemirror_mode": {
    "name": "ipython",
    "version": 3
   },
   "file_extension": ".py",
   "mimetype": "text/x-python",
   "name": "python",
   "nbconvert_exporter": "python",
   "pygments_lexer": "ipython3",
   "version": "3.7.5"
  }
 },
 "nbformat": 4,
 "nbformat_minor": 4
}
