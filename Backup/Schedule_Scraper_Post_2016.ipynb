{
 "cells": [
  {
   "cell_type": "code",
   "execution_count": 1,
   "metadata": {},
   "outputs": [],
   "source": [
    "from selenium.webdriver.chrome.options import Options \n",
    "from selenium import webdriver\n",
    "from selenium.webdriver import Chrome\n",
    "from selenium.webdriver.common.by import By\n",
    "from selenium.webdriver.support.ui import WebDriverWait\n",
    "from selenium.webdriver.support import expected_conditions as EC\n",
    "import pandas as pd\n",
    "import requests\n",
    "import random\n",
    "import time"
   ]
  },
  {
   "cell_type": "code",
   "execution_count": 2,
   "metadata": {},
   "outputs": [
    {
     "name": "stdout",
     "output_type": "stream",
     "text": [
      "https://data.nba.com/data/10s/v2015/json/mobile_teams/nba/2019/league/00_full_schedule_week.json\n"
     ]
    }
   ],
   "source": [
    "year_to_pull='2019'\n",
    "sched_url='https://data.nba.com/data/10s/v2015/json/mobile_teams/nba/'+ year_to_pull +'/league/00_full_schedule_week.json' #edit later and make it dynamic\n",
    "print(sched_url)\n",
    "response = requests.get(sched_url)\n",
    "data=response.json() #convert the response in to a JSON dictionary\n",
    "schedule=data['lscd'] #get all the games by month\n"
   ]
  },
  {
   "cell_type": "code",
   "execution_count": 3,
   "metadata": {},
   "outputs": [],
   "source": [
    "existing_games=[]\n",
    "try:\n",
    "    df_check=pd.read_csv(year_to_pull+'_nba_gamelogs.csv',dtype={'gid': object}) #open the existing database for the selected year. Make sure to set 'gid' to object so leading zeroes are not removed\n",
    "    existing_games=list(set(df_check.gid)) #get a list of the games already in the database. Use a tuple to only keep the unique games\n",
    "\n",
    "except:\n",
    "    print('no csv')"
   ]
  },
  {
   "cell_type": "code",
   "execution_count": 4,
   "metadata": {},
   "outputs": [],
   "source": [
    "from datetime import datetime #import the datetime module\n",
    "game_mon=[schedule[x]['mscd'] for x in range(0,len(schedule))] #filter down to the subjset of the JSON with the gameIDs\n",
    "\n",
    "game_list=[] #a list contains all of the months in the year, the individual gameIDs and the date of the game\n",
    "temp =[]\n",
    "\n",
    "for i in range(0,len(game_mon)): #gam_mon is an array of all the months in the json\n",
    "    num_games=len(game_mon[i]['g']) #number of games in a month\n",
    "    if int(year_to_pull)>2016: #after 2016 need to exclude preseason\n",
    "        temp.append([{game_mon[i]['g'][a]['gid']:datetime.strptime(game_mon[i]['g'][a]['gdte'],'%Y-%m-%d').date()} for a in range(0,num_games) if game_mon[i]['g'][a]['gweek'] != None]) #list of gameIds and the game_dates converted into python dates (no datetime)\n",
    "    else: #preseason games do not appear to be captured before 2017\n",
    "        temp.append([{game_mon[i]['g'][a]['gid']:datetime.strptime(game_mon[i]['g'][a]['gdte'],'%Y-%m-%d').date()} for a in range(0,num_games)]) #list of gameIds and the game_dates converted into python dates (no datetime)\n",
    "\n",
    "#temp =list(filter(len, temp)) #remove any empty elements\n",
    "game_list = [item for sublist in temp for item in sublist] #flatten the list to get a list of game_ids and the the game dates"
   ]
  },
  {
   "cell_type": "code",
   "execution_count": 5,
   "metadata": {},
   "outputs": [
    {
     "data": {
      "text/plain": [
       "'0011900001'"
      ]
     },
     "execution_count": 5,
     "metadata": {},
     "output_type": "execute_result"
    }
   ],
   "source": [
    "schedule[0]['mscd']['g'][0]['gid']"
   ]
  },
  {
   "cell_type": "code",
   "execution_count": 6,
   "metadata": {},
   "outputs": [],
   "source": [
    "from collections import ChainMap\n",
    "game_list=dict(ChainMap(*game_list)) #convert the list to one dictionary"
   ]
  },
  {
   "cell_type": "code",
   "execution_count": 7,
   "metadata": {},
   "outputs": [],
   "source": [
    "from datetime import datetime #import the datetime module\n",
    "max_date=datetime.date(datetime.now()) #get the current date and set it the upper bound for the query."
   ]
  },
  {
   "cell_type": "code",
   "execution_count": 8,
   "metadata": {},
   "outputs": [],
   "source": [
    "game_list_key = [key for key,val in game_list.items() if val < max_date and key not in existing_games] #identify the games for the query"
   ]
  },
  {
   "cell_type": "code",
   "execution_count": 9,
   "metadata": {},
   "outputs": [
    {
     "name": "stdout",
     "output_type": "stream",
     "text": [
      "4 ['0021900370', '0021900369', '0021900368', '0021900367']\n"
     ]
    }
   ],
   "source": [
    "game_list_key=[item for item in game_list_key if item not in existing_games]\n",
    "print(len(game_list_key),game_list_key)"
   ]
  },
  {
   "cell_type": "code",
   "execution_count": 10,
   "metadata": {},
   "outputs": [],
   "source": [
    "def create_df(data):\n",
    "    from datetime import date\n",
    "    gm_id=data['g']['gid'] #get the game ID\n",
    "    #access the dictionary keys for the visitors and home teams\n",
    "    vt_pl_sel=data['g']['vls']['pstsg'] #visiting team player stats\n",
    "    hm_pl_sel=data['g']['hls']['pstsg'] #home team player stats\n",
    "    \n",
    "    #visitors_df\n",
    "    v_df=pd.DataFrame.from_dict(vt_pl_sel)\n",
    "    v_df['gid']=gm_id #add game id\n",
    "    v_df['hm_away']='A' #set as away team\n",
    "    v_df['team']=data['g']['vls']['ta'] #get visitor team name\n",
    "    v_df['game_date']=data['g']['gdte'] #get the date of the game\n",
    "\n",
    "\n",
    "    #home df\n",
    "    h_df=pd.DataFrame.from_dict(hm_pl_sel)\n",
    "    h_df['gid']=gm_id #add game id\n",
    "    h_df['hm_away']='H' #set as home team\n",
    "    h_df['team']=data['g']['hls']['ta'] #get home team name\n",
    "    h_df['game_date']=data['g']['gdte'] #get the date of the game\n",
    "    \n",
    "    box_df=v_df.append(h_df,ignore_index=True) #merge home and away dateframes\n",
    "    box_df['full_name']=box_df.fn+' '+box_df.ln #add full name field\n",
    "    box_df['epoch']= data['g']['mid'] #get epoch time\n",
    "    box_df['full_dt'] = pd.to_datetime(box_df['epoch'], unit = 'ms')\n",
    "    return box_df #return the df for that day"
   ]
  },
  {
   "cell_type": "code",
   "execution_count": 11,
   "metadata": {},
   "outputs": [
    {
     "name": "stderr",
     "output_type": "stream",
     "text": [
      "C:\\ProgramData\\Anaconda3\\lib\\site-packages\\pandas\\core\\frame.py:7138: FutureWarning: Sorting because non-concatenation axis is not aligned. A future version\n",
      "of pandas will change to not sort by default.\n",
      "\n",
      "To accept the future behavior, pass 'sort=False'.\n",
      "\n",
      "To retain the current behavior and silence the warning, pass 'sort=True'.\n",
      "\n",
      "  sort=sort,\n"
     ]
    },
    {
     "name": "stdout",
     "output_type": "stream",
     "text": [
      "--- 1.5589003562927246 seconds ---\n"
     ]
    },
    {
     "data": {
      "text/plain": [
       "dtype('O')"
      ]
     },
     "execution_count": 11,
     "metadata": {},
     "output_type": "execute_result"
    }
   ],
   "source": [
    "#loop through games and create dataframe\n",
    "\n",
    "start_time = time.time()\n",
    "\n",
    "box_df=pd.DataFrame() #empty the old dataframe\n",
    "for i in game_list_key: #loop through all of the games \n",
    "    game_url='https://data.nba.com/data/10s/v2015/json/mobile_teams/nba/' + year_to_pull + '/scores/gamedetail/'+str(i)+'_gamedetail.json'\n",
    "    response = requests.get(game_url)\n",
    "    data=response.json() #convert the response in to a JSON dictionary\n",
    "    box_df=box_df.append(create_df(data),ignore_index=True)\n",
    "    box_df['season']=(str(year_to_pull)+'-'+str((int(year_to_pull)+1)))\n",
    "\n",
    "print(\"--- %s seconds ---\" % (time.time() - start_time))\n",
    "\n",
    "    \n",
    "box_df.gid.dtype\n",
    "#ttps://stats.nba.com/stats/boxscoretraditionalv2?EndPeriod=10&EndRange=31800&GameID=0021900366&RangeType=0&Season=2019-20&SeasonType=Regular+Season&StartPeriod=1&StartRange=0"
   ]
  },
  {
   "cell_type": "code",
   "execution_count": 12,
   "metadata": {},
   "outputs": [],
   "source": [
    "import os.path\n",
    "from os import path\n",
    "filename=year_to_pull+'_nba_gamelogs.csv'\n",
    "\n",
    "if os.path.isfile(filename):\n",
    "    box_df.to_csv(year_to_pull+'_nba_gamelogs.csv',index=False, mode='a',header=False)\n",
    "else:\n",
    "    box_df.to_csv(year_to_pull+'_nba_gamelogs.csv',index=False)"
   ]
  },
  {
   "cell_type": "code",
   "execution_count": 13,
   "metadata": {},
   "outputs": [
    {
     "data": {
      "text/html": [
       "<div>\n",
       "<style scoped>\n",
       "    .dataframe tbody tr th:only-of-type {\n",
       "        vertical-align: middle;\n",
       "    }\n",
       "\n",
       "    .dataframe tbody tr th {\n",
       "        vertical-align: top;\n",
       "    }\n",
       "\n",
       "    .dataframe thead th {\n",
       "        text-align: right;\n",
       "    }\n",
       "</style>\n",
       "<table border=\"1\" class=\"dataframe\">\n",
       "  <thead>\n",
       "    <tr style=\"text-align: right;\">\n",
       "      <th></th>\n",
       "      <th>ast</th>\n",
       "      <th>blk</th>\n",
       "      <th>blka</th>\n",
       "      <th>court</th>\n",
       "      <th>dreb</th>\n",
       "      <th>epoch</th>\n",
       "      <th>fbpts</th>\n",
       "      <th>fbptsa</th>\n",
       "      <th>fbptsm</th>\n",
       "      <th>fga</th>\n",
       "      <th>...</th>\n",
       "      <th>season</th>\n",
       "      <th>sec</th>\n",
       "      <th>status</th>\n",
       "      <th>stl</th>\n",
       "      <th>team</th>\n",
       "      <th>tf</th>\n",
       "      <th>totsec</th>\n",
       "      <th>tov</th>\n",
       "      <th>tpa</th>\n",
       "      <th>tpm</th>\n",
       "    </tr>\n",
       "  </thead>\n",
       "  <tbody>\n",
       "    <tr>\n",
       "      <th>0</th>\n",
       "      <td>2</td>\n",
       "      <td>0</td>\n",
       "      <td>0</td>\n",
       "      <td>1</td>\n",
       "      <td>3</td>\n",
       "      <td>1576216459520</td>\n",
       "      <td>0</td>\n",
       "      <td>0</td>\n",
       "      <td>0</td>\n",
       "      <td>7</td>\n",
       "      <td>...</td>\n",
       "      <td>2019-2020</td>\n",
       "      <td>2</td>\n",
       "      <td>A</td>\n",
       "      <td>0</td>\n",
       "      <td>POR</td>\n",
       "      <td>0</td>\n",
       "      <td>1802</td>\n",
       "      <td>1</td>\n",
       "      <td>5</td>\n",
       "      <td>1</td>\n",
       "    </tr>\n",
       "    <tr>\n",
       "      <th>1</th>\n",
       "      <td>1</td>\n",
       "      <td>2</td>\n",
       "      <td>0</td>\n",
       "      <td>0</td>\n",
       "      <td>9</td>\n",
       "      <td>1576216459520</td>\n",
       "      <td>5</td>\n",
       "      <td>3</td>\n",
       "      <td>2</td>\n",
       "      <td>16</td>\n",
       "      <td>...</td>\n",
       "      <td>2019-2020</td>\n",
       "      <td>42</td>\n",
       "      <td>A</td>\n",
       "      <td>2</td>\n",
       "      <td>POR</td>\n",
       "      <td>0</td>\n",
       "      <td>2202</td>\n",
       "      <td>2</td>\n",
       "      <td>5</td>\n",
       "      <td>2</td>\n",
       "    </tr>\n",
       "    <tr>\n",
       "      <th>2</th>\n",
       "      <td>2</td>\n",
       "      <td>4</td>\n",
       "      <td>1</td>\n",
       "      <td>0</td>\n",
       "      <td>8</td>\n",
       "      <td>1576216459520</td>\n",
       "      <td>0</td>\n",
       "      <td>0</td>\n",
       "      <td>0</td>\n",
       "      <td>21</td>\n",
       "      <td>...</td>\n",
       "      <td>2019-2020</td>\n",
       "      <td>6</td>\n",
       "      <td>A</td>\n",
       "      <td>0</td>\n",
       "      <td>POR</td>\n",
       "      <td>1</td>\n",
       "      <td>2106</td>\n",
       "      <td>0</td>\n",
       "      <td>1</td>\n",
       "      <td>1</td>\n",
       "    </tr>\n",
       "    <tr>\n",
       "      <th>3</th>\n",
       "      <td>2</td>\n",
       "      <td>0</td>\n",
       "      <td>0</td>\n",
       "      <td>0</td>\n",
       "      <td>2</td>\n",
       "      <td>1576216459520</td>\n",
       "      <td>0</td>\n",
       "      <td>1</td>\n",
       "      <td>0</td>\n",
       "      <td>11</td>\n",
       "      <td>...</td>\n",
       "      <td>2019-2020</td>\n",
       "      <td>35</td>\n",
       "      <td>A</td>\n",
       "      <td>0</td>\n",
       "      <td>POR</td>\n",
       "      <td>0</td>\n",
       "      <td>2195</td>\n",
       "      <td>3</td>\n",
       "      <td>7</td>\n",
       "      <td>3</td>\n",
       "    </tr>\n",
       "    <tr>\n",
       "      <th>4</th>\n",
       "      <td>11</td>\n",
       "      <td>0</td>\n",
       "      <td>0</td>\n",
       "      <td>0</td>\n",
       "      <td>1</td>\n",
       "      <td>1576216459520</td>\n",
       "      <td>0</td>\n",
       "      <td>2</td>\n",
       "      <td>0</td>\n",
       "      <td>16</td>\n",
       "      <td>...</td>\n",
       "      <td>2019-2020</td>\n",
       "      <td>33</td>\n",
       "      <td>A</td>\n",
       "      <td>1</td>\n",
       "      <td>POR</td>\n",
       "      <td>0</td>\n",
       "      <td>2253</td>\n",
       "      <td>2</td>\n",
       "      <td>9</td>\n",
       "      <td>2</td>\n",
       "    </tr>\n",
       "  </tbody>\n",
       "</table>\n",
       "<p>5 rows × 43 columns</p>\n",
       "</div>"
      ],
      "text/plain": [
       "   ast  blk  blka  court  dreb          epoch  fbpts  fbptsa  fbptsm  fga  \\\n",
       "0    2    0     0      1     3  1576216459520      0       0       0    7   \n",
       "1    1    2     0      0     9  1576216459520      5       3       2   16   \n",
       "2    2    4     1      0     8  1576216459520      0       0       0   21   \n",
       "3    2    0     0      0     2  1576216459520      0       1       0   11   \n",
       "4   11    0     0      0     1  1576216459520      0       2       0   16   \n",
       "\n",
       "   ...     season sec  status  stl team tf totsec tov tpa tpm  \n",
       "0  ...  2019-2020   2       A    0  POR  0   1802   1   5   1  \n",
       "1  ...  2019-2020  42       A    2  POR  0   2202   2   5   2  \n",
       "2  ...  2019-2020   6       A    0  POR  1   2106   0   1   1  \n",
       "3  ...  2019-2020  35       A    0  POR  0   2195   3   7   3  \n",
       "4  ...  2019-2020  33       A    1  POR  0   2253   2   9   2  \n",
       "\n",
       "[5 rows x 43 columns]"
      ]
     },
     "execution_count": 13,
     "metadata": {},
     "output_type": "execute_result"
    }
   ],
   "source": [
    "box_df.head()"
   ]
  },
  {
   "cell_type": "code",
   "execution_count": 16,
   "metadata": {},
   "outputs": [
    {
     "data": {
      "text/plain": [
       "Index(['ast', 'blk', 'blka', 'court', 'dreb', 'epoch', 'fbpts', 'fbptsa',\n",
       "       'fbptsm', 'fga', 'fgm', 'fn', 'fta', 'ftm', 'full_dt', 'full_name',\n",
       "       'game_date', 'gid', 'hm_away', 'ln', 'memo', 'min', 'num', 'oreb', 'pf',\n",
       "       'pid', 'pip', 'pipa', 'pipm', 'pm', 'pos', 'pts', 'reb', 'season',\n",
       "       'sec', 'status', 'stl', 'team', 'tf', 'totsec', 'tov', 'tpa', 'tpm'],\n",
       "      dtype='object')"
      ]
     },
     "execution_count": 16,
     "metadata": {},
     "output_type": "execute_result"
    }
   ],
   "source": [
    "box_df.columns"
   ]
  },
  {
   "cell_type": "code",
   "execution_count": null,
   "metadata": {},
   "outputs": [],
   "source": []
  }
 ],
 "metadata": {
  "kernelspec": {
   "display_name": "Python 3",
   "language": "python",
   "name": "python3"
  },
  "language_info": {
   "codemirror_mode": {
    "name": "ipython",
    "version": 3
   },
   "file_extension": ".py",
   "mimetype": "text/x-python",
   "name": "python",
   "nbconvert_exporter": "python",
   "pygments_lexer": "ipython3",
   "version": "3.7.4"
  }
 },
 "nbformat": 4,
 "nbformat_minor": 4
}
