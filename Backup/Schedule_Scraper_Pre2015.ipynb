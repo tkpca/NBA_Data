{
 "cells": [
  {
   "cell_type": "code",
   "execution_count": 12,
   "metadata": {},
   "outputs": [],
   "source": [
    "from datetime import datetime #import the datetime module\n",
    "import pandas as pd\n",
    "import requests\n",
    "import random\n",
    "import time\n",
    "import numpy as np\n",
    "import os.path\n",
    "from os import path\n",
    "from requests_futures.sessions import FuturesSession\n",
    "import json\n",
    "import sys\n"
   ]
  },
  {
   "cell_type": "code",
   "execution_count": 17,
   "metadata": {},
   "outputs": [
    {
     "name": "stdin",
     "output_type": "stream",
     "text": [
      "What is the first year of the season to pull: 1998\n",
      "What is the last year of the season to pull: 1999\n"
     ]
    },
    {
     "name": "stdout",
     "output_type": "stream",
     "text": [
      "[1998, 1999]\n"
     ]
    }
   ],
   "source": [
    "first_year=int(input('What is the first year of the season to pull:'))\n",
    "last_year=int(input('What is the last year of the season to pull:'))\n",
    "years_to_pull=[x for x in range(first_year,last_year+1)] #create a list with the years to loop through\n",
    "\n",
    "print(years_to_pull)\n",
    "\n"
   ]
  },
  {
   "cell_type": "code",
   "execution_count": 15,
   "metadata": {},
   "outputs": [],
   "source": [
    "def pull_df(game_list_key,year_param,year_to_pull):\n",
    "    #loop through games and create dataframe\n",
    "    #s = requests.Session()\n",
    "    s= FuturesSession()\n",
    "    \n",
    "    headers = {\n",
    "        'Host': 'stats.nba.com',\n",
    "        'User-Agent': 'Mozilla/5.0 (Windows NT 10.0; Win64; x64; rv:61.0) Gecko/20100101 Firefox/61.0',\n",
    "        'Accept': 'application/json, text/plain, */*',\n",
    "        'Accept-Language': 'en-US,en;q=0.5',\n",
    "        'Referer': 'https://stats.nba.com/',\n",
    "        'Accept-Encoding': 'gzip, deflate, br',\n",
    "        'Connection': 'keep-alive',\n",
    "    }\n",
    "\n",
    "    s.headers=headers\n",
    "    \n",
    "    payload_basic={'EndPeriod': '10',\n",
    "    'EndRange': '28800',\n",
    "    'GameID': '0021400340',\n",
    "    'RangeType': '0',\n",
    "    'Season': year_param,\n",
    "    'SeasonType': 'Regular Season',\n",
    "    'StartPeriod': '1',\n",
    "    'StartRange': '0'}\n",
    "\n",
    "    start_time = time.time()\n",
    "    x=0\n",
    "\n",
    "    box_df=pd.DataFrame() #empty the old dataframe\n",
    "\n",
    "    for i in game_list_key: #loop through all of the games \n",
    "        gm_start_time = time.time() #track how long it takes to process a single game\n",
    "        #get the basic_box_score_stats\n",
    "        payload_basic['GameID']=i\n",
    "        game_url_basic='https://stats.nba.com/stats/boxscoretraditionalv2'\n",
    "        response_basic = s.get(url=game_url_basic,params=payload_basic,headers=headers)\n",
    "        data_basic=response_basic.result() \n",
    "        data_basic=data_basic.json() #convert the response in to a JSON dictionary\n",
    "        \n",
    "\n",
    "        #additional basic data\n",
    "        game_url='https://stats.nba.com/stats/boxscoresummaryv2?GameID='+i #url for the summary\n",
    "        response_summary = s.get(url=game_url,headers=headers)\n",
    "        data_summary=response_summary.result() \n",
    "        data_summary=data_summary.json() #convert the response in to a JSON dictionary for the summary\n",
    "        game_dt=(data_summary['resultSets'][0]['rowSet'][0][0]) #get the game date\n",
    "        home_tm_id=(data_summary['resultSets'][0]['rowSet'][0][6]) #get the home team id summary query'\n",
    "\n",
    "        box_basic=(data_basic['resultSets'])\n",
    "        box_basic_df=pd.DataFrame.from_dict(box_basic[0]['rowSet'])\n",
    "        box_basic_df.columns=box_basic[0]['headers']\n",
    "        box_basic_df['game_dt']=game_dt\n",
    "        box_basic_df['hm_away'] = np.where(box_basic_df['TEAM_ID']==home_tm_id, 'H', 'A') #mark as home or away\n",
    "        box_basic_df['status'] = np.where(np.isnan(box_basic_df['FGM']), 'I', 'A') #flag DNP\n",
    "\n",
    "\n",
    "        #adv_player_data\n",
    "        game_url_adv='https://stats.nba.com/stats/boxscoreadvancedv2'\n",
    "        response_adv = s.get(url=game_url_adv,params=payload_basic,headers=headers)\n",
    "        data_adv=response_adv.result() \n",
    "        data_adv=data_adv.json() #convert the response in to a JSON dictionary\n",
    "        box_adv=(data_adv['resultSets'][0])\n",
    "        box_adv_h=data_adv['resultSets'][0]['headers'] #set the headers for the advanced stats\n",
    "        box_adv_d=data_adv['resultSets'][0]['rowSet'] #set the data variable for the advanced stats\n",
    "        box_adv_df=pd.DataFrame.from_dict(box_adv_d) #create the dataframe with the advanced stats\n",
    "        box_adv_df.columns=box_adv_h #set the column headers for the advanced stats\n",
    "\n",
    "        #consolidate the dataframes\n",
    "        curr_game=box_basic_df.merge(box_adv_df, left_on='PLAYER_ID', right_on='PLAYER_ID',suffixes=('', '_delete')) #merge basic and advanced stats using the player as the key\n",
    "        curr_game=curr_game.loc[:,~curr_game.columns.str.endswith('_delete')] #remove the duplicated columns\n",
    "\n",
    "        box_df=box_df.append(curr_game,ignore_index=True) #append the game to the main dataframe\n",
    "        game_process_time=(\"--- %s seconds ---\" % (time.time() - gm_start_time))\n",
    "        print('currently processing game: ' + str(x) + ' of 1230 for the '+year_param+ ' season which took '+ game_process_time+ ' to process')\n",
    "        x+=1\n",
    "        \n",
    "    box_df['season']=year_param\n",
    "    print(\"--- %s seconds ---\" % (time.time() - start_time))\n",
    "    return box_df\n",
    "              \n",
    "\n",
    "    \n"
   ]
  },
  {
   "cell_type": "code",
   "execution_count": 18,
   "metadata": {},
   "outputs": [
    {
     "name": "stdout",
     "output_type": "stream",
     "text": [
      "currently processing game: 0 of 1230 for the 1998-1999 season which took --- 6.882109642028809 seconds --- to process\n",
      "--- 6.883110523223877 seconds ---\n",
      "currently processing game: 0 of 1230 for the 1999-2000 season which took --- 9.285656929016113 seconds --- to process\n",
      "--- 9.287669897079468 seconds ---\n"
     ]
    }
   ],
   "source": [
    "for year_to_pull in years_to_pull:\n",
    "    year_param=((str(year_to_pull)+'-'+str((int(year_to_pull)+1))))\n",
    "    year_param\n",
    "    game_list_key =[]\n",
    "    game_list_key=['002'+str(year_to_pull)[2:4] + str(i).zfill(5) for i in range(1,1231)] #002 is the prefix, plus last two digits of the year+games 1-1230 padded to 5 digits\n",
    "    \n",
    "    #use the pull_game function to get all of the gamedata for the year\n",
    "    box_df=pull_df(game_list_key,year_param,year_to_pull)\n",
    "    #save the file\n",
    "    filename=str(year_to_pull)+'_nba_gamelogs.csv'\n",
    "    box_df.to_csv(filename,index=False)"
   ]
  },
  {
   "cell_type": "code",
   "execution_count": 7,
   "metadata": {},
   "outputs": [
    {
     "ename": "NameError",
     "evalue": "name 'box_df' is not defined",
     "output_type": "error",
     "traceback": [
      "\u001b[1;31m---------------------------------------------------------------------------\u001b[0m",
      "\u001b[1;31mNameError\u001b[0m                                 Traceback (most recent call last)",
      "\u001b[1;32m<ipython-input-7-558311b4c2c8>\u001b[0m in \u001b[0;36m<module>\u001b[1;34m\u001b[0m\n\u001b[1;32m----> 1\u001b[1;33m \u001b[0mbox_df\u001b[0m\u001b[1;33m.\u001b[0m\u001b[0mhead\u001b[0m\u001b[1;33m(\u001b[0m\u001b[1;36m200\u001b[0m\u001b[1;33m)\u001b[0m\u001b[1;33m\u001b[0m\u001b[1;33m\u001b[0m\u001b[0m\n\u001b[0m",
      "\u001b[1;31mNameError\u001b[0m: name 'box_df' is not defined"
     ]
    }
   ],
   "source": [
    "box_df.head(200)"
   ]
  },
  {
   "cell_type": "code",
   "execution_count": null,
   "metadata": {},
   "outputs": [],
   "source": [
    "box_df.columns"
   ]
  },
  {
   "cell_type": "code",
   "execution_count": null,
   "metadata": {},
   "outputs": [],
   "source": [
    "box_df.GAME_ID.nunique()"
   ]
  },
  {
   "cell_type": "code",
   "execution_count": null,
   "metadata": {},
   "outputs": [],
   "source": []
  }
 ],
 "metadata": {
  "kernelspec": {
   "display_name": "Python 3",
   "language": "python",
   "name": "python3"
  },
  "language_info": {
   "codemirror_mode": {
    "name": "ipython",
    "version": 3
   },
   "file_extension": ".py",
   "mimetype": "text/x-python",
   "name": "python",
   "nbconvert_exporter": "python",
   "pygments_lexer": "ipython3",
   "version": "3.7.5"
  }
 },
 "nbformat": 4,
 "nbformat_minor": 4
}
