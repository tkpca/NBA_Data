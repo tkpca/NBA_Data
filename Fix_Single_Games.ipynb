{
 "cells": [
  {
   "cell_type": "markdown",
   "metadata": {},
   "source": [
    "<h1>Pull Single Games Manually</h1>"
   ]
  },
  {
   "cell_type": "markdown",
   "metadata": {},
   "source": [
    "<h2>Required modules</h2>\n",
    "<p>This is a simple script to pull information using the Asyncio library. It takes a list of URLs and then returns them as a list of JSON responses in a Jupyter notebook.</p>\n",
    "<p>It requires the following libararies:</p>\n",
    "<ol>\n",
    "<li><span class=\"nn\">Asyncio and Aiohttp (3.6.2) to allow the API calls to run asynchronously.</span></li>\n",
    "<li><span class=\"nn\">Ipywidgets (7.5.1)</span>&nbsp;to set the parameters.</li>\n",
    "<li>Json to process the json results.</li>\n",
    "<li>And time to display the runtime.</li></ol>\n",
    "<h3>This script is specific to pull missing player dat from the gamelogs</h3>\n",
    "<li>It takes the missing season-player pairs and calls NBA API to get all the player gamelogs for that season and saves them to a dataframe.</li>\n",
    "<p>\n",
    "    \n",
    "This is used to pull data for a single game. Parameters are set manually for one-off errors in the batch pulls."
   ]
  },
  {
   "cell_type": "code",
   "execution_count": 5,
   "metadata": {},
   "outputs": [],
   "source": [
    "import random\n",
    "import time\n",
    "import json\n",
    "import asyncio\n",
    "import aiohttp\n",
    "from ipywidgets import interact, interactive, fixed, interact_manual,Layout\n",
    "import ipywidgets as widgets\n",
    "import pandas as pd\n"
   ]
  },
  {
   "cell_type": "markdown",
   "metadata": {},
   "source": [
    "<h2>Set up parameters and headers</h2>\n",
    "<p>There are some parameters that need to be set. The ones that are mandatory will be set using a widget.</p>\n",
    "<p>The headers and parameter dictionaries are not required and be left empty. For this example the script does not require either to be set, however, if the API call does require additional parameters these dictionaries can be used to pass them into the API call.</p>\n",
    "<p>If the headers/parameters are dynamic they should be set inside the actual loop, not here.</p>\n",
    "<p>The time value, in seconds, is used to set the time for the whole query to run . This is to prevent the script from spamming the server and prevent being banned.</p>\n",
    "<p>For example if time is set to 600 the queries will take ~10 minutes (600s / 60s) to run. The script spaces each request randomly using a uniform distribution. For small numbers of requests this shouldn't matter but for large ones it prevents sending too many concurrently.</p>\n",
    "<p>The connections parameter sets the max number of concurrent connections. Setting this higher allows more queries to be completed at once. Setting it too high can result in an an issue. For large numbers of requests you can play with this to see if it increases speed. This function will get called in the main routine.</p>"
   ]
  },
  {
   "cell_type": "code",
   "execution_count": 6,
   "metadata": {},
   "outputs": [
    {
     "data": {
      "application/vnd.jupyter.widget-view+json": {
       "model_id": "41b5f66a9e1949afadf9ebaf248e1a61",
       "version_major": 2,
       "version_minor": 0
      },
      "text/plain": [
       "IntText(value=50, description='Set the max number of connections', layout=Layout(width='30%'), style=Descripti…"
      ]
     },
     "metadata": {},
     "output_type": "display_data"
    },
    {
     "data": {
      "application/vnd.jupyter.widget-view+json": {
       "model_id": "8f685da8e5d84635bc849b0308a2833a",
       "version_major": 2,
       "version_minor": 0
      },
      "text/plain": [
       "IntText(value=3, description='Time for the query to run in seconds', layout=Layout(width='30%'), style=Descrip…"
      ]
     },
     "metadata": {},
     "output_type": "display_data"
    },
    {
     "data": {
      "application/vnd.jupyter.widget-view+json": {
       "model_id": "6a062cd022a946b69f83f8402a29d282",
       "version_major": 2,
       "version_minor": 0
      },
      "text/plain": [
       "Text(value='https://stats.nba.com/stats', description='The URL for the base API', layout=Layout(width='30%'), …"
      ]
     },
     "metadata": {},
     "output_type": "display_data"
    }
   ],
   "source": [
    "#request headers and parameters are optional dictionaries.\n",
    "global wait_base\n",
    "\n",
    "req_headers=    headers = {\n",
    "    'Host': 'stats.nba.com',\n",
    "    'User-Agent': 'Mozilla/5.0 (Windows NT 10.0; Win64; x64; rv:71.0) Gecko/20100101 Firefox/71.0',\n",
    "    'Accept': 'application/json, text/plain, */*',\n",
    "    'Accept-Language': 'en-US,en;q=0.5',\n",
    "    'Referer': 'https://stats.nba.com/',\n",
    "    'Accept-Encoding': 'gzip, deflate, br',\n",
    "    'Connection': 'keep-alive',\n",
    "        }\n",
    "req_params={'EndPeriod': '10',\n",
    "    'EndRange': '28800',\n",
    "    'GameID': '0021400340',\n",
    "    'RangeType': '0',\n",
    "\n",
    "    'SeasonType': 'Regular Season',\n",
    "    'StartPeriod': '1',\n",
    "    'StartRange': '0'}  \n",
    "\n",
    "#Set a variable that sets the number of connections\n",
    "style = {'description_width': 'initial'}\n",
    "x=widgets.IntText(value=50,description='Set the max number of connections', layout=Layout(width='30%'),style=style)\n",
    "y=widgets.IntText(value=3,description='Time for the query to run in seconds', layout=Layout(width='30%'),style=style)\n",
    "url_widget= widgets.Text(value='https://stats.nba.com/stats',description='The URL for the base API', layout=Layout(width='30%'),style=style)\n",
    "display(x,y,url_widget) #show the selection widgets\n",
    "\n",
    "def set_request_param(x,y,url_widget):\n",
    "    conn= aiohttp.TCPConnector(limit=x.value)\n",
    "    wait_base=y.value\n",
    "    base_url=url_widget.value\n",
    "    \n",
    "    return(conn,wait_base,base_url)"
   ]
  },
  {
   "cell_type": "markdown",
   "metadata": {},
   "source": [
    "<h2>Request functions</h2>\n",
    "<p>There are two functions that are set up before the request itself:</p>\n",
    "<ol>\n",
    "<li><strong>get_json</strong>. This function makes the API call.</li>\n",
    "<li><strong>response</strong>. This is the function that determines the parameters for the API request. By default it only serves to use the wait parameter to space out the API calls.&nbsp;</li>\n",
    "</ol>\n",
    "<p>Note that since this will be asynchronous fuctions the the function needs to start with the prefix <strong> async </strong>. Also, the keyword <strong> await </strong> is required before you return results from the function.\n",
    "<p><strong>get_json</strong> takes three parameters:</p>\n",
    "<ol>\n",
    "<li>Client. This is the session inherited from the main routine.</li>\n",
    "<li>Headers. This takes the parameters from the dictionary in the main body.&nbsp;</li>\n",
    "<li>Params. This takes the parameters from the dictionary in the main body.</li>\n",
    "<li>URL. The URL for the API call.</li>\n",
    "</ol>\n",
    "<p><strong>response</strong> takes the same parameters as the get_json function plus a parameter, wait base. This is the number of seconds we have allocated for all of the queries. This is then used for pull a random number from the uniform distribution to determine when to sent out the next query in the sequence.</p>\n",
    "<p>The <strong>item_dict</strong> contains a dictionary that includes the path_url and additional parameters (if applicable). They are merged into the web request before it is passed on to the <strong>get_json</strong> function.</p>"
   ]
  },
  {
   "cell_type": "code",
   "execution_count": 7,
   "metadata": {},
   "outputs": [],
   "source": [
    "'''Function is used to pull the request data'''\n",
    "async def get_json(client,req_headers,req_params,url):\n",
    "    async with client.get(url,params=req_params,headers=req_headers) as response:\n",
    "        try:\n",
    "            ret=await response.json()\n",
    "            return ret\n",
    "        except Exception as e:\n",
    "            print(f'The API call to {url} returned an error, {e}')"
   ]
  },
  {
   "cell_type": "code",
   "execution_count": 8,
   "metadata": {},
   "outputs": [],
   "source": [
    "async def response_basic(wait_base,client,req_headers,req_params,url,item_dict):\n",
    "    try:\n",
    "        url=url+item_dict['path_url'] #add the path url if applicable\n",
    "    except:\n",
    "        pass\n",
    "    new_param=item_dict['params'] #pull the parameters out of the item dictionary\n",
    "    req_params ={**req_params , **new_param}\n",
    "    \n",
    "    #wait time between requests is pulled from a random uniform distribution\n",
    "    wait_t=random.uniform(0,wait_base)\n",
    "    #set a sleep between requests based on the value calculated above\n",
    "    await asyncio.sleep(wait_t)\n",
    "    response= await get_json(client,req_headers,req_params,url)\n",
    "    return response\n",
    "\n",
    "async def response_adv(wait_base,client,req_headers,req_params,url,item_dict):\n",
    "    try:\n",
    "        url=url+item_dict['path_url'] #add the path url if applicable\n",
    "    except:\n",
    "        pass\n",
    "    new_param=item_dict['params'] #pull the parameters out of the item dictionary\n",
    "    req_params ={**req_params , **new_param}\n",
    "    \n",
    "    #wait time between requests is pulled from a random uniform distribution\n",
    "    wait_t=random.uniform(0,wait_base)\n",
    "    #set a sleep between requests based on the value calculated above\n",
    "    await asyncio.sleep(wait_t)\n",
    "    response= await get_json(client,req_headers,req_params,url)\n",
    "    return response"
   ]
  },
  {
   "cell_type": "markdown",
   "metadata": {},
   "source": [
    "<h2>Main Routine</h2>\n",
    "<p>The main routine is relatively straightforward. Since this is also an asynchronous function it requires the&nbsp;<strong>async</strong> keyword.</p>\n",
    "<ol>\n",
    "<li>Call a fuction&nbsp;<strong>set_request_param&nbsp;</strong>which returns a tuple containing the request parameters that were set up earlier.</li>\n",
    "<li>Create a list of of dictionaries that contains the list of URL paths and parameters for each query. This example uses the NBA API to pull draft combine data from from the 2003-04 season to the 2019-20 season. Keep in mind this is more to illustrate the concept. In practice you would only use Asynchio when need to make many requests.</li>\n",
    "<li>Third, an AIOHTTP client session is started. This is where the actual requests take place.</li>\n",
    "<li>The&nbsp;<strong>json_data</strong> list stores a list of the tasks and&nbsp;starts the loop (via &nbsp;<strong>asyncio.create_task</strong>)<strong>&nbsp;</strong>that calls the&nbsp;<strong>response</strong> function (which in turn calls the <strong>get_json</strong> function for the API calls).&nbsp;In this case there will be two JSON responses stored in the list.</li>\n",
    "<li>The function runs and stores a list of the individual responses in the variable<strong> results</strong>. As was the case with the&nbsp;<strong>get_json</strong> function the keyword <strong>await</strong> is required to make sure the script waits for all of the responses to be returned.</li>\n",
    "<li>The results of the query will be available for processing in a list called&nbsp;<strong>results<em>.</em></strong></li>\n",
    "</ol>\n",
    "<p>&nbsp;</p>"
   ]
  },
  {
   "cell_type": "code",
   "execution_count": 35,
   "metadata": {},
   "outputs": [],
   "source": [
    "def total_games(season):\n",
    "    if season == 1998:\n",
    "        total_g=725\n",
    "    elif season ==2011:\n",
    "        total_g=1025\n",
    "    elif season <=1987:\n",
    "        total_g=943\n",
    "    elif season <=1994:\n",
    "        total_g=1107\n",
    "    elif season <=1994:\n",
    "        total_g=1189\n",
    "    else:\n",
    "        total_g=1230\n",
    "    return total_g\n",
    "\n",
    "items_basic=[]\n",
    "items_adv=[]\n",
    "\n",
    "items_adv=[{'path_url':'/boxscoreadvancedv2','params':{'Season':'1999-00','GameID':f'0029900712'}}]"
   ]
  },
  {
   "cell_type": "code",
   "execution_count": 36,
   "metadata": {},
   "outputs": [],
   "source": [
    "async def main():\n",
    "    #get the connection and wait parameters based on the user's inputs\n",
    "    conn,wait_base,base_url=set_request_param(x,y,url_widget)\n",
    "    print(f'Estimated time in hours: {wait_base/60/60}')\n",
    "    #This is a list of dictionaries to loop through that includes any path URLs or parameters\n",
    "    start_time = time.time()\n",
    "    \n",
    "    async with aiohttp.ClientSession(connector=conn) as client: #create the client sesson object that persists across requests\n",
    "        \n",
    "        '''create task is used to start the task to pull all the asynch requests'''\n",
    "        \n",
    "        json_data_adv=[asyncio.create_task(response_adv(wait_base,client,req_headers,req_params,base_url,item_dict)) for item_dict in items_adv]\n",
    "            \n",
    "        #The await...gather ensures all of the queries are complete before the function returns the list of JSONs back to the main program\n",
    "        \n",
    "        results_adv = await asyncio.gather(*json_data_adv, return_exceptions=True)\n",
    "        print(f'it took {round(time.time() - start_time,2)} seconds to go through: {len(items_basic)+len(items_adv)} items')\n",
    "        return results_adv\n",
    "    "
   ]
  },
  {
   "cell_type": "code",
   "execution_count": 38,
   "metadata": {},
   "outputs": [
    {
     "name": "stdout",
     "output_type": "stream",
     "text": [
      "Estimated time in hours: 0.0008333333333333334\n",
      "it took 6.02 seconds to go through: 1 items\n"
     ]
    }
   ],
   "source": [
    "'''Call the main routine and result the results of the webqueries'''\n",
    "if __name__ ==  '__main__':\n",
    "    results_Adv =await main()"
   ]
  },
  {
   "cell_type": "markdown",
   "metadata": {},
   "source": [
    "<h2>Results</h2>\n"
   ]
  },
  {
   "cell_type": "code",
   "execution_count": 26,
   "metadata": {},
   "outputs": [],
   "source": [
    "#Needed to normalize the results to flatten the results\n",
    "from pandas.io.json import json_normalize"
   ]
  },
  {
   "cell_type": "code",
   "execution_count": 23,
   "metadata": {},
   "outputs": [],
   "source": [
    "def create_df(dataframe,df_cols):\n",
    "    df=pd.DataFrame(json_normalize(dataframe,record_path=['rowSet'],sep=\"_\"))\n",
    "    return df"
   ]
  },
  {
   "cell_type": "code",
   "execution_count": 24,
   "metadata": {},
   "outputs": [],
   "source": [
    "def adv_results(results_Adv,tableindex):\n",
    "    df_cols=[]\n",
    "    df_adv=[]\n",
    "    df_err=[]\n",
    "    df_cols=results_Adv[-1]['resultSets'][tableindex]['headers']\n",
    "    df=pd.DataFrame()\n",
    "    for i,j in enumerate(results_Adv):\n",
    "        try:\n",
    "            df_adv.append(results_Adv[i]['resultSets'][tableindex])\n",
    "            \n",
    "        except Exception as e:\n",
    "            df_err.append((i,e))\n",
    "    \n",
    "    df_adv=create_df(df_adv,df_cols)\n",
    "    df_adv.columns=df_cols\n",
    "    return df_adv,df_err "
   ]
  },
  {
   "cell_type": "code",
   "execution_count": 39,
   "metadata": {},
   "outputs": [],
   "source": [
    "df_adv_PlayerStats,adv_PlayerStats_err=adv_results(results_Adv,0)\n",
    "df_adv_TeamStats,adv_TeamStats_err=adv_results(results_Adv,1)"
   ]
  },
  {
   "cell_type": "code",
   "execution_count": 40,
   "metadata": {},
   "outputs": [
    {
     "data": {
      "text/html": [
       "<div>\n",
       "<style scoped>\n",
       "    .dataframe tbody tr th:only-of-type {\n",
       "        vertical-align: middle;\n",
       "    }\n",
       "\n",
       "    .dataframe tbody tr th {\n",
       "        vertical-align: top;\n",
       "    }\n",
       "\n",
       "    .dataframe thead th {\n",
       "        text-align: right;\n",
       "    }\n",
       "</style>\n",
       "<table border=\"1\" class=\"dataframe\">\n",
       "  <thead>\n",
       "    <tr style=\"text-align: right;\">\n",
       "      <th></th>\n",
       "      <th>GAME_ID</th>\n",
       "      <th>TEAM_ID</th>\n",
       "      <th>TEAM_NAME</th>\n",
       "      <th>TEAM_ABBREVIATION</th>\n",
       "      <th>TEAM_CITY</th>\n",
       "      <th>MIN</th>\n",
       "      <th>E_OFF_RATING</th>\n",
       "      <th>OFF_RATING</th>\n",
       "      <th>E_DEF_RATING</th>\n",
       "      <th>DEF_RATING</th>\n",
       "      <th>...</th>\n",
       "      <th>TM_TOV_PCT</th>\n",
       "      <th>EFG_PCT</th>\n",
       "      <th>TS_PCT</th>\n",
       "      <th>USG_PCT</th>\n",
       "      <th>E_USG_PCT</th>\n",
       "      <th>E_PACE</th>\n",
       "      <th>PACE</th>\n",
       "      <th>PACE_PER40</th>\n",
       "      <th>POSS</th>\n",
       "      <th>PIE</th>\n",
       "    </tr>\n",
       "  </thead>\n",
       "  <tbody>\n",
       "    <tr>\n",
       "      <th>0</th>\n",
       "      <td>0029900712</td>\n",
       "      <td>1610612762</td>\n",
       "      <td>Jazz</td>\n",
       "      <td>UTA</td>\n",
       "      <td>Utah</td>\n",
       "      <td>240:00</td>\n",
       "      <td>101.5</td>\n",
       "      <td>102.1</td>\n",
       "      <td>103.1</td>\n",
       "      <td>104.1</td>\n",
       "      <td>...</td>\n",
       "      <td>18.6</td>\n",
       "      <td>0.438</td>\n",
       "      <td>0.524</td>\n",
       "      <td>1.0</td>\n",
       "      <td>0.199</td>\n",
       "      <td>97.74</td>\n",
       "      <td>97.00</td>\n",
       "      <td>80.83</td>\n",
       "      <td>97</td>\n",
       "      <td>0.516</td>\n",
       "    </tr>\n",
       "    <tr>\n",
       "      <th>1</th>\n",
       "      <td>0029900712</td>\n",
       "      <td>1610612738</td>\n",
       "      <td>Celtics</td>\n",
       "      <td>BOS</td>\n",
       "      <td>Boston</td>\n",
       "      <td>222:01</td>\n",
       "      <td>104.0</td>\n",
       "      <td>97.7</td>\n",
       "      <td>102.7</td>\n",
       "      <td>95.9</td>\n",
       "      <td>...</td>\n",
       "      <td>16.3</td>\n",
       "      <td>0.494</td>\n",
       "      <td>0.568</td>\n",
       "      <td>1.0</td>\n",
       "      <td>0.202</td>\n",
       "      <td>98.22</td>\n",
       "      <td>104.86</td>\n",
       "      <td>87.38</td>\n",
       "      <td>97</td>\n",
       "      <td>0.480</td>\n",
       "    </tr>\n",
       "  </tbody>\n",
       "</table>\n",
       "<p>2 rows × 29 columns</p>\n",
       "</div>"
      ],
      "text/plain": [
       "      GAME_ID     TEAM_ID TEAM_NAME TEAM_ABBREVIATION TEAM_CITY     MIN  \\\n",
       "0  0029900712  1610612762      Jazz               UTA      Utah  240:00   \n",
       "1  0029900712  1610612738   Celtics               BOS    Boston  222:01   \n",
       "\n",
       "   E_OFF_RATING  OFF_RATING  E_DEF_RATING  DEF_RATING  ...  TM_TOV_PCT  \\\n",
       "0         101.5       102.1         103.1       104.1  ...        18.6   \n",
       "1         104.0        97.7         102.7        95.9  ...        16.3   \n",
       "\n",
       "   EFG_PCT  TS_PCT  USG_PCT  E_USG_PCT  E_PACE    PACE  PACE_PER40  POSS  \\\n",
       "0    0.438   0.524      1.0      0.199   97.74   97.00       80.83    97   \n",
       "1    0.494   0.568      1.0      0.202   98.22  104.86       87.38    97   \n",
       "\n",
       "     PIE  \n",
       "0  0.516  \n",
       "1  0.480  \n",
       "\n",
       "[2 rows x 29 columns]"
      ]
     },
     "execution_count": 40,
     "metadata": {},
     "output_type": "execute_result"
    }
   ],
   "source": [
    "df_adv_TeamStats[df_adv_TeamStats.GAME_ID=='0029900712']"
   ]
  },
  {
   "cell_type": "code",
   "execution_count": 42,
   "metadata": {},
   "outputs": [],
   "source": [
    "df_adv_PlayerStats.to_parquet('df_p.gzip',compression='gzip')\n",
    "df_adv_TeamStats.to_parquet('df_t.gzip',compression='gzip')"
   ]
  },
  {
   "cell_type": "markdown",
   "metadata": {},
   "source": [
    "## Code to use to merge into the main dataframe"
   ]
  },
  {
   "cell_type": "code",
   "execution_count": null,
   "metadata": {},
   "outputs": [],
   "source": [
    "#df_p=pd.read_parquet('df_p.gzip')\n",
    "#df_t=pd.read_parquet('df_t.gzip')\n",
    "#df_adv_TeamStats[df_adv_TeamStats.GAME_ID=='0029900712']\n",
    "#df_adv_PlayerStats[df_adv_PlayerStats.GAME_ID=='0029900712']\n",
    "#pd.concat([df_adv_PlayerStats,df_p])\n",
    "#df_adv_TeamStats=pd.concat([df_adv_TeamStats,df_t])"
   ]
  }
 ],
 "metadata": {
  "kernelspec": {
   "display_name": "Python 3",
   "language": "python",
   "name": "python3"
  },
  "language_info": {
   "codemirror_mode": {
    "name": "ipython",
    "version": 3
   },
   "file_extension": ".py",
   "mimetype": "text/x-python",
   "name": "python",
   "nbconvert_exporter": "python",
   "pygments_lexer": "ipython3",
   "version": "3.7.4"
  }
 },
 "nbformat": 4,
 "nbformat_minor": 4
}
