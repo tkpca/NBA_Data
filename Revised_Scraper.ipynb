{
 "cells": [
  {
   "cell_type": "markdown",
   "metadata": {},
   "source": [
    "<h1>Asynchio web request module</h1>"
   ]
  },
  {
   "cell_type": "markdown",
   "metadata": {},
   "source": [
    "<h2>Required modules</h2>\n",
    "<p>This is a simple script to pull information using the Asyncio library. It takes a list of URLs and then returns them as a list of JSON responses in a Jupyter notebook.</p>\n",
    "<p>It requires the following libararies:</p>\n",
    "<ol>\n",
    "<li><span class=\"nn\">Asyncio and Aiohttp (3.6.2) to allow the API calls to run asynchronously.</span></li>\n",
    "<li><span class=\"nn\">Ipywidgets (7.5.1)</span>&nbsp;to set the parameters.</li>\n",
    "<li>Json to process the json results.</li>\n",
    "<li>And time to display the runtime.</li></ol>\n",
    "\n",
    "<li>This script is to pull basic and advanced player and team stats by game from the NBA API. It saves the results in five different tables</li>\n",
    "<p>\n",
    "    "
   ]
  },
  {
   "cell_type": "code",
   "execution_count": 1,
   "metadata": {},
   "outputs": [],
   "source": [
    "import random\n",
    "import time\n",
    "import json\n",
    "import asyncio\n",
    "import aiohttp\n",
    "from ipywidgets import interact, interactive, fixed, interact_manual,Layout\n",
    "import ipywidgets as widgets\n",
    "import pandas as pd\n"
   ]
  },
  {
   "cell_type": "markdown",
   "metadata": {},
   "source": [
    "<h2>Set up parameters and headers</h2>\n",
    "<p>There are some parameters that need to be set. The ones that are mandatory will be set using a widget.</p>\n",
    "<p>The headers and parameter dictionaries are not required and be left empty. For this example the script does not require either to be set, however, if the API call does require additional parameters these dictionaries can be used to pass them into the API call.</p>\n",
    "<p>If the headers/parameters are dynamic they should be set inside the actual loop, not here.</p>\n",
    "<p>The time value, in seconds, is used to set the time for the whole query to run . This is to prevent the script from spamming the server and prevent being banned.</p>\n",
    "<p>For example if time is set to 600 the queries will take ~10 minutes (600s / 60s) to run. The script spaces each request randomly using a uniform distribution. For small numbers of requests this shouldn't matter but for large ones it prevents sending too many concurrently.</p>\n",
    "<p>The connections parameter sets the max number of concurrent connections. Setting this higher allows more queries to be completed at once. Setting it too high can result in an an issue. For large numbers of requests you can play with this to see if it increases speed. This function will get called in the main routine.</p>"
   ]
  },
  {
   "cell_type": "code",
   "execution_count": 2,
   "metadata": {},
   "outputs": [
    {
     "data": {
      "application/vnd.jupyter.widget-view+json": {
       "model_id": "83707ddebd854393bee8ef5cc5894e33",
       "version_major": 2,
       "version_minor": 0
      },
      "text/plain": [
       "IntText(value=50, description='Set the max number of connections', layout=Layout(width='30%'), style=Descripti…"
      ]
     },
     "metadata": {},
     "output_type": "display_data"
    },
    {
     "data": {
      "application/vnd.jupyter.widget-view+json": {
       "model_id": "e24e1f00dac54c73a198d5cfa27456fb",
       "version_major": 2,
       "version_minor": 0
      },
      "text/plain": [
       "IntText(value=3, description='Time for the query to run in seconds', layout=Layout(width='30%'), style=Descrip…"
      ]
     },
     "metadata": {},
     "output_type": "display_data"
    },
    {
     "data": {
      "application/vnd.jupyter.widget-view+json": {
       "model_id": "95dc193314ab4c729d64e43f48998ebb",
       "version_major": 2,
       "version_minor": 0
      },
      "text/plain": [
       "Text(value='https://stats.nba.com/stats', description='The URL for the base API', layout=Layout(width='30%'), …"
      ]
     },
     "metadata": {},
     "output_type": "display_data"
    }
   ],
   "source": [
    "#request headers and parameters are optional dictionaries.\n",
    "global wait_base\n",
    "\n",
    "req_headers=    headers = {\n",
    "    'Host': 'stats.nba.com',\n",
    "    'User-Agent': 'Mozilla/5.0 (Windows NT 10.0; Win64; x64; rv:71.0) Gecko/20100101 Firefox/71.0',\n",
    "    'Accept': 'application/json, text/plain, */*',\n",
    "    'Accept-Language': 'en-US,en;q=0.5',\n",
    "    'Referer': 'https://stats.nba.com/',\n",
    "    'Accept-Encoding': 'gzip, deflate, br',\n",
    "    'Connection': 'keep-alive',\n",
    "        }\n",
    "req_params={'EndPeriod': '10',\n",
    "    'EndRange': '28800',\n",
    "    'GameID': '0021400340',\n",
    "    'RangeType': '0',\n",
    "\n",
    "    'SeasonType': 'Regular Season',\n",
    "    'StartPeriod': '1',\n",
    "    'StartRange': '0'}  \n",
    "\n",
    "#Set a variable that sets the number of connections\n",
    "style = {'description_width': 'initial'}\n",
    "x=widgets.IntText(value=50,description='Set the max number of connections', layout=Layout(width='30%'),style=style)\n",
    "y=widgets.IntText(value=3,description='Time for the query to run in seconds', layout=Layout(width='30%'),style=style)\n",
    "url_widget= widgets.Text(value='https://stats.nba.com/stats',description='The URL for the base API', layout=Layout(width='30%'),style=style)\n",
    "display(x,y,url_widget) #show the selection widgets\n",
    "\n",
    "def set_request_param(x,y,url_widget):\n",
    "    conn= aiohttp.TCPConnector(limit=x.value)\n",
    "    wait_base=y.value\n",
    "    base_url=url_widget.value\n",
    "    \n",
    "    return(conn,wait_base,base_url)"
   ]
  },
  {
   "cell_type": "markdown",
   "metadata": {},
   "source": [
    "<h2>Request functions</h2>\n",
    "<p>There are two functions that are set up before the request itself:</p>\n",
    "<ol>\n",
    "<li><strong>get_json</strong>. This function makes the API call.</li>\n",
    "<li><strong>response</strong>. This is the function that determines the parameters for the API request. By default it only serves to use the wait parameter to space out the API calls.&nbsp;</li>\n",
    "</ol>\n",
    "<p>Note that since this will be asynchronous fuctions the the function needs to start with the prefix <strong> async </strong>. Also, the keyword <strong> await </strong> is required before you return results from the function.\n",
    "<p><strong>get_json</strong> takes three parameters:</p>\n",
    "<ol>\n",
    "<li>Client. This is the session inherited from the main routine.</li>\n",
    "<li>Headers. This takes the parameters from the dictionary in the main body.&nbsp;</li>\n",
    "<li>Params. This takes the parameters from the dictionary in the main body.</li>\n",
    "<li>URL. The URL for the API call.</li>\n",
    "</ol>\n",
    "<p><strong>response</strong> takes the same parameters as the get_json function plus a parameter, wait base. This is the number of seconds we have allocated for all of the queries. This is then used for pull a random number from the uniform distribution to determine when to sent out the next query in the sequence.</p>\n",
    "<p>The <strong>item_dict</strong> contains a dictionary that includes the path_url and additional parameters (if applicable). They are merged into the web request before it is passed on to the <strong>get_json</strong> function.</p>"
   ]
  },
  {
   "cell_type": "code",
   "execution_count": 3,
   "metadata": {},
   "outputs": [],
   "source": [
    "'''Function is used to pull the request data'''\n",
    "async def get_json(client,req_headers,req_params,url):\n",
    "    async with client.get(url,params=req_params,headers=req_headers) as response:\n",
    "        try:\n",
    "            ret=await response.json()\n",
    "            return ret\n",
    "        except Exception as e:\n",
    "            print(f'The API call to {url} returned an error, {e}')"
   ]
  },
  {
   "cell_type": "code",
   "execution_count": 4,
   "metadata": {},
   "outputs": [],
   "source": [
    "async def response_basic(wait_base,client,req_headers,req_params,url,item_dict):\n",
    "    try:\n",
    "        url=url+item_dict['path_url'] #add the path url if applicable\n",
    "    except:\n",
    "        pass\n",
    "    new_param=item_dict['params'] #pull the parameters out of the item dictionary\n",
    "    req_params ={**req_params , **new_param}\n",
    "    \n",
    "    #wait time between requests is pulled from a random uniform distribution\n",
    "    wait_t=random.uniform(0,wait_base)\n",
    "    #set a sleep between requests based on the value calculated above\n",
    "    await asyncio.sleep(wait_t)\n",
    "    response= await get_json(client,req_headers,req_params,url)\n",
    "    return response\n",
    "\n",
    "async def response_adv(wait_base,client,req_headers,req_params,url,item_dict):\n",
    "    try:\n",
    "        url=url+item_dict['path_url'] #add the path url if applicable\n",
    "    except:\n",
    "        pass\n",
    "    new_param=item_dict['params'] #pull the parameters out of the item dictionary\n",
    "    req_params ={**req_params , **new_param}\n",
    "    \n",
    "    #wait time between requests is pulled from a random uniform distribution\n",
    "    wait_t=random.uniform(0,wait_base)\n",
    "    #set a sleep between requests based on the value calculated above\n",
    "    await asyncio.sleep(wait_t)\n",
    "    response= await get_json(client,req_headers,req_params,url)\n",
    "    return response"
   ]
  },
  {
   "cell_type": "markdown",
   "metadata": {},
   "source": [
    "## Select seasons to pull\n",
    "\n",
    "### Selection Widgets\n",
    "The two dropdowns are used to generate the parameters for the query. The default is for the 2019-20. If the first year is > then the last year selected the function will set the last year = first year to prevent an error."
   ]
  },
  {
   "cell_type": "code",
   "execution_count": 326,
   "metadata": {},
   "outputs": [
    {
     "data": {
      "application/vnd.jupyter.widget-view+json": {
       "model_id": "2e1af3d538074aaa9d5e617f0986dd17",
       "version_major": 2,
       "version_minor": 0
      },
      "text/plain": [
       "Dropdown(description='First season to pull:', index=39, options=(1980, 1981, 1982, 1983, 1984, 1985, 1986, 198…"
      ]
     },
     "metadata": {},
     "output_type": "display_data"
    },
    {
     "data": {
      "application/vnd.jupyter.widget-view+json": {
       "model_id": "790a961478474b7c8b247dfe848ce729",
       "version_major": 2,
       "version_minor": 0
      },
      "text/plain": [
       "Dropdown(description='Last season to pull:', index=39, options=(1980, 1981, 1982, 1983, 1984, 1985, 1986, 1987…"
      ]
     },
     "metadata": {},
     "output_type": "display_data"
    }
   ],
   "source": [
    "year_selection=[i for i in range(1980,2020)]\n",
    "season_first=widgets.Dropdown(\n",
    "    options=year_selection,\n",
    "    value=year_selection[-1],\n",
    "    description='First season to pull:',\n",
    "    disabled=False,\n",
    ")\n",
    "\n",
    "season_last=widgets.Dropdown(\n",
    "    options=year_selection,\n",
    "    value=year_selection[-1],\n",
    "    description='Last season to pull:',\n",
    "    disabled=False,\n",
    ")\n",
    "\n",
    "display(season_first,season_last)\n"
   ]
  },
  {
   "cell_type": "markdown",
   "metadata": {},
   "source": [
    "### Generate games to pull\n",
    "This portion of code generates the games/lists of parameters to pull for each of the basic and advanced box score stats based on the selections from the year dropdowns. It also adjusts the ranges for any strike shortened seasons using the total games function.\n",
    "\n",
    "The lists for each year are then flattened."
   ]
  },
  {
   "cell_type": "code",
   "execution_count": 356,
   "metadata": {},
   "outputs": [],
   "source": [
    "#Adjust for shorter seasons\n",
    "def total_games(season):\n",
    "    if season == 1998:\n",
    "        total_g=725\n",
    "    elif season ==2011:\n",
    "        total_g=1025\n",
    "    elif season <=1987:\n",
    "        total_g=943\n",
    "    elif season <=1994:\n",
    "        total_g=1107\n",
    "    elif season <=1994:\n",
    "        total_g=1189\n",
    "    else:\n",
    "        total_g=1230\n",
    "    return total_g\n",
    "\n",
    "#empty query lists\n",
    "items_basic=[]\n",
    "items_adv=[]\n",
    "\n",
    "if season_first.value > season_last.value:\n",
    "    season_last.value = season_first.value \n",
    "\n",
    "#generate season-game parameter pairs\n",
    "for i in range(s_start,s_end+1):\n",
    "    season_start=str(int(i))[2:]\n",
    "    gameid=f'002{season_start}0' #+ 4 digits 0340'\n",
    "    season_end=str(int(i+1))[2:4]\n",
    "    season=f'{str(i)}-{season_end}'\n",
    "    \n",
    "    game_count=total_games(i)\n",
    "    items_basic.append([{'path_url':'/boxscoretraditionalv2','params':{'Season':season,'GameID':f'{gameid}{str(games).zfill(4)}'}} for games in range(1,game_count+1)])\n",
    "    items_adv.append([{'path_url':'/boxscoreadvancedv2','params':{'Season':season,'GameID':f'{gameid}{str(games).zfill(4)}'}} for games in range(1,game_count+1)])\n",
    "\n",
    "#flatten lists for the query\n",
    "def flat_list(list_to_flatten):\n",
    "    flattened=[item for sublist in list_to_flatten for item in sublist]\n",
    "    return flattened\n",
    "\n",
    "basic_list=flat_list(items_basic)\n",
    "adv_list=flat_list(items_adv)"
   ]
  },
  {
   "cell_type": "markdown",
   "metadata": {},
   "source": [
    "<h2>Main Routine</h2>\n",
    "<p>The main routine is relatively straightforward. Since this is also an asynchronous function it requires the&nbsp;<strong>async</strong> keyword.</p>\n",
    "<ol>\n",
    "<li>Call a fuction&nbsp;<strong>set_request_param&nbsp;</strong>which returns a tuple containing the request parameters that were set up earlier.</li>\n",
    "<li>Create a list of of dictionaries that contains the list of URL paths and parameters for each query. This example uses the NBA API to pull draft combine data from from the 2003-04 season to the 2019-20 season. Keep in mind this is more to illustrate the concept. In practice you would only use Asynchio when need to make many requests.</li>\n",
    "<li>Third, an AIOHTTP client session is started. This is where the actual requests take place.</li>\n",
    "<li>The&nbsp;<strong>json_data</strong> list stores a list of the tasks and&nbsp;starts the loop (via &nbsp;<strong>asyncio.create_task</strong>)<strong>&nbsp;</strong>that calls the&nbsp;<strong>response</strong> function (which in turn calls the <strong>get_json</strong> function for the API calls).&nbsp;In this case there will be two JSON responses stored in the list.</li>\n",
    "<li>The function runs and stores a list of the individual responses in the variable<strong> results</strong>. As was the case with the&nbsp;<strong>get_json</strong> function the keyword <strong>await</strong> is required to make sure the script waits for all of the responses to be returned.</li>\n",
    "<li>The results of the query will be available for processing in a list called&nbsp;<strong>results<em>.</em></strong></li>\n",
    "</ol>"
   ]
  },
  {
   "cell_type": "code",
   "execution_count": 7,
   "metadata": {},
   "outputs": [],
   "source": [
    "async def main():\n",
    "    #get the connection and wait parameters based on the user's inputs\n",
    "    conn,wait_base,base_url=set_request_param(x,y,url_widget)\n",
    "    print(f'Estimated time in hours: {wait_base/60/60}')\n",
    "    #This is a list of dictionaries to loop through that includes any path URLs or parameters\n",
    "    start_time = time.time()\n",
    "    \n",
    "    async with aiohttp.ClientSession(connector=conn) as client: #create the client sesson object that persists across requests\n",
    "        \n",
    "        '''create task is used to start the task to pull all the asynch requests'''\n",
    "        json_data_basic=[asyncio.create_task(response_basic(wait_base,client,req_headers,req_params,base_url,item_dict)) for item_dict in basic_list]\n",
    "        json_data_adv=[asyncio.create_task(response_adv(wait_base,client,req_headers,req_params,base_url,item_dict)) for item_dict in adv_list]\n",
    "            \n",
    "        #The await...gather ensures all of the queries are complete before the function returns the list of JSONs back to the main program\n",
    "        results_basic = await asyncio.gather(*json_data_basic, return_exceptions=True)\n",
    "        results_adv = await asyncio.gather(*json_data_adv, return_exceptions=True)\n",
    "        print(f'it took {round(time.time() - start_time,2)} seconds to go through: {len(items_basic)+len(items_adv)} items')\n",
    "        return results_basic,results_adv\n",
    "    "
   ]
  },
  {
   "cell_type": "code",
   "execution_count": 8,
   "metadata": {},
   "outputs": [
    {
     "name": "stdout",
     "output_type": "stream",
     "text": [
      "Estimated time in hours: 5.555555555555555\n",
      "The API call to https://stats.nba.com/stats/boxscoreadvancedv2 returned an error, 0, message='Attempt to decode JSON with unexpected mimetype: text/html', url=URL('https://stats.nba.com/stats/boxscoreadvancedv2?EndPeriod=10&EndRange=28800&GameID=0029900712&RangeType=0&SeasonType=Regular+Season&StartPeriod=1&StartRange=0&Season=1999-00')\n",
      "it took 20007.07 seconds to go through: 80 items\n"
     ]
    }
   ],
   "source": [
    "'''Call the main routine and result the results of the webqueries'''\n",
    "if __name__ ==  '__main__':\n",
    "    results_Bas,results_Adv =await main()"
   ]
  },
  {
   "cell_type": "markdown",
   "metadata": {},
   "source": [
    "<h2>Save data</h2>\n",
    "The results are normalized into dataframes then saved into parquet format so they can be uploaded to the database.\n"
   ]
  },
  {
   "cell_type": "code",
   "execution_count": null,
   "metadata": {},
   "outputs": [],
   "source": [
    "#Needed to normalize the results to flatten the results\n",
    "from pandas.io.json import json_normalize"
   ]
  },
  {
   "cell_type": "markdown",
   "metadata": {},
   "source": [
    "### Function to normalize results into a Dataframe"
   ]
  },
  {
   "cell_type": "code",
   "execution_count": 240,
   "metadata": {},
   "outputs": [],
   "source": [
    "def create_df(dataframe,df_cols):\n",
    "    df=pd.DataFrame(json_normalize(dataframe,record_path=['rowSet'],sep=\"_\"))\n",
    "    return df"
   ]
  },
  {
   "cell_type": "markdown",
   "metadata": {},
   "source": [
    "### Two functions to build Dataframes for Basic and Advanced Box Scores"
   ]
  },
  {
   "cell_type": "code",
   "execution_count": 241,
   "metadata": {},
   "outputs": [],
   "source": [
    "def basic_results(results_Bas,tableindex):\n",
    "    df_cols=[]\n",
    "    df_basic=[]\n",
    "    df_err=[]\n",
    "    df_cols=results_Bas[0]['resultSets'][tableindex]['headers']\n",
    "    df=pd.DataFrame()\n",
    "    \n",
    "    for i,j in enumerate(results_Bas):\n",
    "        try:\n",
    "            df_basic.append(results_Bas[i]['resultSets'][tableindex])\n",
    "            \n",
    "        except Exception as e:\n",
    "            df_err.append((i,e))\n",
    "    \n",
    "    df_basic=create_df(df_basic,df_cols)\n",
    "    df_basic.columns=df_cols\n",
    "    return df_basic,df_err   \n",
    "    "
   ]
  },
  {
   "cell_type": "code",
   "execution_count": 242,
   "metadata": {},
   "outputs": [],
   "source": [
    "def adv_results(results_Adv,tableindex):\n",
    "    df_cols=[]\n",
    "    df_adv=[]\n",
    "    df_err=[]\n",
    "    df_cols=results_Adv[-1]['resultSets'][tableindex]['headers']\n",
    "    df=pd.DataFrame()\n",
    "    for i,j in enumerate(results_Adv):\n",
    "        try:\n",
    "            df_adv.append(results_Adv[i]['resultSets'][tableindex])\n",
    "            \n",
    "        except Exception as e:\n",
    "            df_err.append((i,e))\n",
    "    \n",
    "    df_adv=create_df(df_adv,df_cols)\n",
    "    df_adv.columns=df_cols\n",
    "    return df_adv,df_err "
   ]
  },
  {
   "cell_type": "markdown",
   "metadata": {},
   "source": [
    "### Build Dataframes\n",
    "1. Basic box scores include three tables: Playerstats, Teamstats, and TeamStarterBenchStats.\n",
    "2. Advanced box scores include two tables: Playerstats and Teamstats."
   ]
  },
  {
   "cell_type": "code",
   "execution_count": 243,
   "metadata": {},
   "outputs": [],
   "source": [
    "df_basic_PlayerStats,basic_PlayerStats_err=basic_results(results_Bas,0)\n",
    "df_basic_TeamStats,basic_TeamStats_err=basic_results(results_Bas,1)\n",
    "df_basic_TeamStarterBenchStats,basic_TeamStarterBenchStats_err=basic_results(results_Bas,2)\n",
    "df_adv_PlayerStats,adv_PlayerStats_err=adv_results(results_Adv,0)\n",
    "df_adv_TeamStats,adv_TeamStats_err=adv_results(results_Adv,1)"
   ]
  },
  {
   "cell_type": "markdown",
   "metadata": {},
   "source": [
    "### Need to explicity convert MIN column to strings\n",
    "This is a mixed field column in the source data. It needs to be forced as a string to save in Parquet."
   ]
  },
  {
   "cell_type": "code",
   "execution_count": 377,
   "metadata": {},
   "outputs": [],
   "source": [
    "df_basic_PlayerStats['MIN'] =df_basic_PlayerStats['MIN'].astype(str)\n",
    "df_basic_TeamStats['MIN']=df_basic_TeamStats['MIN'].astype(str)\n",
    "df_basic_TeamStarterBenchStats['MIN']=df_basic_TeamStarterBenchStats['MIN'].astype(str)\n",
    "df_adv_PlayerStats['MIN']=df_adv_PlayerStats['MIN'].astype(str)\n",
    "df_adv_TeamStats['MIN']=df_adv_TeamStats['MIN'].astype(str)"
   ]
  },
  {
   "cell_type": "markdown",
   "metadata": {},
   "source": [
    "### Save the dataframes in the Source Data folder"
   ]
  },
  {
   "cell_type": "code",
   "execution_count": 378,
   "metadata": {},
   "outputs": [],
   "source": [
    "import os\n",
    "savedir=os.getcwd()+'\\\\Source_data\\\\'\n",
    "df_basic_PlayerStats.to_parquet(f'{savedir}\\\\df_basic_PlayerStats.gzip',compression='gzip')\n",
    "\n",
    "df_basic_TeamStats.to_parquet(f'{savedir}\\\\df_basic_TeamStats.gzip',compression='gzip')\n",
    "\n",
    "df_basic_TeamStarterBenchStats.to_parquet(f'{savedir}\\\\df_basic_TeamStarterBenchStats.gzip',compression='gzip')\n",
    "\n",
    "df_adv_PlayerStats.to_parquet(f'{savedir}\\\\df_adv_PlayerStats.gzip',compression='gzip')\n",
    "\n",
    "df_adv_TeamStats.to_parquet(f'{savedir}\\\\df_adv_TeamStats.gzip',compression='gzip')\n",
    "\n",
    "\n"
   ]
  },
  {
   "cell_type": "code",
   "execution_count": 314,
   "metadata": {},
   "outputs": [
    {
     "data": {
      "text/html": [
       "<div>\n",
       "<style scoped>\n",
       "    .dataframe tbody tr th:only-of-type {\n",
       "        vertical-align: middle;\n",
       "    }\n",
       "\n",
       "    .dataframe tbody tr th {\n",
       "        vertical-align: top;\n",
       "    }\n",
       "\n",
       "    .dataframe thead th {\n",
       "        text-align: right;\n",
       "    }\n",
       "</style>\n",
       "<table border=\"1\" class=\"dataframe\">\n",
       "  <thead>\n",
       "    <tr style=\"text-align: right;\">\n",
       "      <th></th>\n",
       "      <th>GAME_ID</th>\n",
       "      <th>TEAM_ID</th>\n",
       "      <th>TEAM_ABBREVIATION</th>\n",
       "      <th>TEAM_CITY</th>\n",
       "      <th>PLAYER_ID</th>\n",
       "      <th>PLAYER_NAME</th>\n",
       "      <th>START_POSITION</th>\n",
       "      <th>COMMENT</th>\n",
       "      <th>MIN</th>\n",
       "      <th>FGM</th>\n",
       "      <th>...</th>\n",
       "      <th>OREB</th>\n",
       "      <th>DREB</th>\n",
       "      <th>REB</th>\n",
       "      <th>AST</th>\n",
       "      <th>STL</th>\n",
       "      <th>BLK</th>\n",
       "      <th>TO</th>\n",
       "      <th>PF</th>\n",
       "      <th>PTS</th>\n",
       "      <th>PLUS_MINUS</th>\n",
       "    </tr>\n",
       "  </thead>\n",
       "  <tbody>\n",
       "    <tr>\n",
       "      <th>0</th>\n",
       "      <td>0028000001</td>\n",
       "      <td>1610612756</td>\n",
       "      <td>PHX</td>\n",
       "      <td>Phoenix</td>\n",
       "      <td>76011</td>\n",
       "      <td>Alvan Adams</td>\n",
       "      <td></td>\n",
       "      <td></td>\n",
       "      <td>29</td>\n",
       "      <td>10.0</td>\n",
       "      <td>...</td>\n",
       "      <td>1.0</td>\n",
       "      <td>7.0</td>\n",
       "      <td>8.0</td>\n",
       "      <td>6.0</td>\n",
       "      <td>3.0</td>\n",
       "      <td>0.0</td>\n",
       "      <td>3.0</td>\n",
       "      <td>2.0</td>\n",
       "      <td>25.0</td>\n",
       "      <td>NaN</td>\n",
       "    </tr>\n",
       "    <tr>\n",
       "      <th>1</th>\n",
       "      <td>0028000001</td>\n",
       "      <td>1610612756</td>\n",
       "      <td>PHX</td>\n",
       "      <td>Phoenix</td>\n",
       "      <td>78095</td>\n",
       "      <td>Alvin Scott</td>\n",
       "      <td></td>\n",
       "      <td></td>\n",
       "      <td>12</td>\n",
       "      <td>0.0</td>\n",
       "      <td>...</td>\n",
       "      <td>0.0</td>\n",
       "      <td>3.0</td>\n",
       "      <td>3.0</td>\n",
       "      <td>2.0</td>\n",
       "      <td>0.0</td>\n",
       "      <td>1.0</td>\n",
       "      <td>0.0</td>\n",
       "      <td>1.0</td>\n",
       "      <td>2.0</td>\n",
       "      <td>NaN</td>\n",
       "    </tr>\n",
       "    <tr>\n",
       "      <th>2</th>\n",
       "      <td>0028000001</td>\n",
       "      <td>1610612756</td>\n",
       "      <td>PHX</td>\n",
       "      <td>Phoenix</td>\n",
       "      <td>77141</td>\n",
       "      <td>Dennis Johnson</td>\n",
       "      <td></td>\n",
       "      <td></td>\n",
       "      <td>31</td>\n",
       "      <td>10.0</td>\n",
       "      <td>...</td>\n",
       "      <td>4.0</td>\n",
       "      <td>1.0</td>\n",
       "      <td>5.0</td>\n",
       "      <td>3.0</td>\n",
       "      <td>2.0</td>\n",
       "      <td>0.0</td>\n",
       "      <td>2.0</td>\n",
       "      <td>3.0</td>\n",
       "      <td>28.0</td>\n",
       "      <td>NaN</td>\n",
       "    </tr>\n",
       "    <tr>\n",
       "      <th>3</th>\n",
       "      <td>0028000001</td>\n",
       "      <td>1610612756</td>\n",
       "      <td>PHX</td>\n",
       "      <td>Phoenix</td>\n",
       "      <td>76436</td>\n",
       "      <td>Jeff Cook</td>\n",
       "      <td></td>\n",
       "      <td></td>\n",
       "      <td>33</td>\n",
       "      <td>2.0</td>\n",
       "      <td>...</td>\n",
       "      <td>1.0</td>\n",
       "      <td>6.0</td>\n",
       "      <td>7.0</td>\n",
       "      <td>1.0</td>\n",
       "      <td>1.0</td>\n",
       "      <td>0.0</td>\n",
       "      <td>3.0</td>\n",
       "      <td>3.0</td>\n",
       "      <td>4.0</td>\n",
       "      <td>NaN</td>\n",
       "    </tr>\n",
       "    <tr>\n",
       "      <th>4</th>\n",
       "      <td>0028000001</td>\n",
       "      <td>1610612756</td>\n",
       "      <td>PHX</td>\n",
       "      <td>Phoenix</td>\n",
       "      <td>77308</td>\n",
       "      <td>Joel Kramer</td>\n",
       "      <td></td>\n",
       "      <td></td>\n",
       "      <td>16</td>\n",
       "      <td>2.0</td>\n",
       "      <td>...</td>\n",
       "      <td>1.0</td>\n",
       "      <td>1.0</td>\n",
       "      <td>2.0</td>\n",
       "      <td>2.0</td>\n",
       "      <td>0.0</td>\n",
       "      <td>0.0</td>\n",
       "      <td>0.0</td>\n",
       "      <td>1.0</td>\n",
       "      <td>6.0</td>\n",
       "      <td>NaN</td>\n",
       "    </tr>\n",
       "  </tbody>\n",
       "</table>\n",
       "<p>5 rows × 28 columns</p>\n",
       "</div>"
      ],
      "text/plain": [
       "      GAME_ID     TEAM_ID TEAM_ABBREVIATION TEAM_CITY  PLAYER_ID  \\\n",
       "0  0028000001  1610612756               PHX   Phoenix      76011   \n",
       "1  0028000001  1610612756               PHX   Phoenix      78095   \n",
       "2  0028000001  1610612756               PHX   Phoenix      77141   \n",
       "3  0028000001  1610612756               PHX   Phoenix      76436   \n",
       "4  0028000001  1610612756               PHX   Phoenix      77308   \n",
       "\n",
       "      PLAYER_NAME START_POSITION COMMENT MIN   FGM  ...  OREB  DREB  REB  AST  \\\n",
       "0     Alvan Adams                         29  10.0  ...   1.0   7.0  8.0  6.0   \n",
       "1     Alvin Scott                         12   0.0  ...   0.0   3.0  3.0  2.0   \n",
       "2  Dennis Johnson                         31  10.0  ...   4.0   1.0  5.0  3.0   \n",
       "3       Jeff Cook                         33   2.0  ...   1.0   6.0  7.0  1.0   \n",
       "4     Joel Kramer                         16   2.0  ...   1.0   1.0  2.0  2.0   \n",
       "\n",
       "   STL  BLK   TO   PF   PTS  PLUS_MINUS  \n",
       "0  3.0  0.0  3.0  2.0  25.0         NaN  \n",
       "1  0.0  1.0  0.0  1.0   2.0         NaN  \n",
       "2  2.0  0.0  2.0  3.0  28.0         NaN  \n",
       "3  1.0  0.0  3.0  3.0   4.0         NaN  \n",
       "4  0.0  0.0  0.0  1.0   6.0         NaN  \n",
       "\n",
       "[5 rows x 28 columns]"
      ]
     },
     "execution_count": 314,
     "metadata": {},
     "output_type": "execute_result"
    }
   ],
   "source": [
    "df_basic_PlayerStats.head()"
   ]
  },
  {
   "cell_type": "code",
   "execution_count": null,
   "metadata": {},
   "outputs": [],
   "source": []
  }
 ],
 "metadata": {
  "kernelspec": {
   "display_name": "Python 3",
   "language": "python",
   "name": "python3"
  },
  "language_info": {
   "codemirror_mode": {
    "name": "ipython",
    "version": 3
   },
   "file_extension": ".py",
   "mimetype": "text/x-python",
   "name": "python",
   "nbconvert_exporter": "python",
   "pygments_lexer": "ipython3",
   "version": "3.7.4"
  }
 },
 "nbformat": 4,
 "nbformat_minor": 4
}
